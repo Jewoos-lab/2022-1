{
  "nbformat": 4,
  "nbformat_minor": 0,
  "metadata": {
    "colab": {
      "name": "201804217유제우(13주차).ipynb",
      "provenance": [],
      "collapsed_sections": []
    },
    "kernelspec": {
      "name": "python3",
      "display_name": "Python 3"
    },
    "language_info": {
      "name": "python"
    }
  },
  "cells": [
    {
      "cell_type": "markdown",
      "source": [
        "* 강남대학교 산업데이터사이언스\n",
        "* 201804217 유제우\n",
        "* 기계학습기초[02] 13주차 과제"
      ],
      "metadata": {
        "id": "YsZElGDa_vzS"
      }
    },
    {
      "cell_type": "code",
      "execution_count": null,
      "metadata": {
        "id": "UrUpxvCU_k-v"
      },
      "outputs": [],
      "source": [
        "import numpy as np\n",
        "import pandas as pd\n",
        "from sklearn.model_selection import train_test_split\n",
        "\n",
        "wine = pd.read_csv(\"https://bit.ly/wine_csv_data\")\n",
        "\n",
        "data = wine[['alcohol', 'sugar', 'pH']].to_numpy()\n",
        "target = wine['class'].to_numpy()\n",
        "\n",
        "train_input, test_input, train_target, test_target = train_test_split(data, target, test_size = 0.2)"
      ]
    },
    {
      "cell_type": "markdown",
      "source": [
        "# 랜덤 포레스트"
      ],
      "metadata": {
        "id": "SDp4JmbWBNLf"
      }
    },
    {
      "cell_type": "code",
      "source": [
        "from sklearn.model_selection import cross_validate\n",
        "from sklearn.ensemble import RandomForestClassifier\n",
        "rf = RandomForestClassifier(n_jobs = -1)\n",
        "rf.fit(train_input, train_target)"
      ],
      "metadata": {
        "colab": {
          "base_uri": "https://localhost:8080/"
        },
        "id": "xs5_OybG_pcd",
        "outputId": "e6bdaac9-59f1-4276-8d39-3831aa4795b1"
      },
      "execution_count": null,
      "outputs": [
        {
          "output_type": "execute_result",
          "data": {
            "text/plain": [
              "RandomForestClassifier(n_jobs=-1)"
            ]
          },
          "metadata": {},
          "execution_count": 60
        }
      ]
    },
    {
      "cell_type": "code",
      "source": [
        "# 5-fold 교차검증 수행\n",
        "\n",
        "from sklearn.model_selection import StratifiedKFold\n",
        "splitter = StratifiedKFold(n_splits = 5, shuffle = True)\n",
        "scores_rf =  cross_validate(rf, train_input, train_target, return_train_score = True, n_jobs = -1, cv = splitter)"
      ],
      "metadata": {
        "id": "87Z9vNJcCYzx"
      },
      "execution_count": null,
      "outputs": []
    },
    {
      "cell_type": "markdown",
      "source": [
        "## (1) 5-fold 교차 검증을 통한 훈련세트 점수(score), 검증세트 점수와 테스트세트 점수를 구하여 출력(print)하시오."
      ],
      "metadata": {
        "id": "JM1RlRrP_3wh"
      }
    },
    {
      "cell_type": "code",
      "source": [
        "# 훈련세트의 점수, 검증세트의 점수, 테스트세트의 점수 출력\n",
        "print(\"훈련세트의 scores: \", np.mean(scores_rf['train_score']))\n",
        "print(\"검증세트의 scores: \", np.mean(scores_rf['test_score']))\n",
        "print(\"테스트세트의 scores: \", rf.score(test_input, test_target))"
      ],
      "metadata": {
        "colab": {
          "base_uri": "https://localhost:8080/"
        },
        "id": "xVm1Fz0m_5Wc",
        "outputId": "1eab0e42-8f10-403c-c5dd-842d062e7ecf"
      },
      "execution_count": null,
      "outputs": [
        {
          "output_type": "stream",
          "name": "stdout",
          "text": [
            "훈련세트의 scores:  0.9975466892714907\n",
            "검증세트의 scores:  0.8901319686088695\n",
            "테스트세트의 scores:  0.8930769230769231\n"
          ]
        }
      ]
    },
    {
      "cell_type": "markdown",
      "source": [
        "# 그레디언트부스팅"
      ],
      "metadata": {
        "id": "liSvC5fqDr5W"
      }
    },
    {
      "cell_type": "code",
      "source": [
        "from sklearn.ensemble import GradientBoostingClassifier\n",
        "gb = GradientBoostingClassifier()\n",
        "gb.fit(train_input, train_target)"
      ],
      "metadata": {
        "colab": {
          "base_uri": "https://localhost:8080/"
        },
        "id": "wCzhAFgxB8qj",
        "outputId": "9981efa3-abb3-4d24-8e10-1244574e8714"
      },
      "execution_count": null,
      "outputs": [
        {
          "output_type": "execute_result",
          "data": {
            "text/plain": [
              "GradientBoostingClassifier()"
            ]
          },
          "metadata": {},
          "execution_count": 63
        }
      ]
    },
    {
      "cell_type": "code",
      "source": [
        "# 5-fold 교차검증 수행\n",
        "from sklearn.model_selection import StratifiedKFold\n",
        "splitter = StratifiedKFold(n_splits = 5, shuffle = True)\n",
        "scores_gb =  cross_validate(gb, train_input, train_target, return_train_score = True, n_jobs = -1, cv = splitter)"
      ],
      "metadata": {
        "id": "O2OkDKwXD_kR"
      },
      "execution_count": null,
      "outputs": []
    },
    {
      "cell_type": "markdown",
      "source": [
        "## (1) 5-fold 교차 검증을 통한 훈련세트 점수(score), 검증세트 점수와 테스트세트 점수를 구하여 출력(print)하시오."
      ],
      "metadata": {
        "id": "pwF1oObNEGYb"
      }
    },
    {
      "cell_type": "code",
      "source": [
        "# 훈련세트의 점수, 검증세트의 점수, 테스트세트의 점수 출력\n",
        "print(\"훈련세트의 scores: \", np.mean(scores_gb['train_score']))\n",
        "print(\"검증세트의 scores: \", np.mean(scores_gb['test_score']))\n",
        "print(\"테스트세트의 scores: \", gb.score(test_input, test_target))"
      ],
      "metadata": {
        "colab": {
          "base_uri": "https://localhost:8080/"
        },
        "id": "AudKF1HnEBMC",
        "outputId": "19adca29-19ec-4a78-d2fb-e0b7f181dd11"
      },
      "execution_count": null,
      "outputs": [
        {
          "output_type": "stream",
          "name": "stdout",
          "text": [
            "훈련세트의 scores:  0.8845488228216156\n",
            "검증세트의 scores:  0.8641511808691791\n",
            "테스트세트의 scores:  0.8630769230769231\n"
          ]
        }
      ]
    },
    {
      "cell_type": "markdown",
      "source": [
        "# (2) 결과를 간단히 요약하여 말로 적으시오. 어떤 결과를 얻었는가? (평이하게 써도 됨)"
      ],
      "metadata": {
        "id": "umntuSptEfJx"
      }
    },
    {
      "cell_type": "markdown",
      "source": [
        "랜덤포레스트의 경우 훈련세트에 상당히 과대적합이 되어있는 것을 알 수 있다. 또한 검증세트의 스코어값보다 테스트세트에 대한 스코어값이 높게 나왔다.\n",
        "\n",
        "그레디언트부스팅의 경우 랜덤포레스트에서 일어났던 과대적합이 개선되었음을 알 수 있다. 하지만 랜덤포레스트의 테스트세트 스코어값이 더 낮게 나왔다. 그레디언트부스팅의 경우엔 과대적합에 매우 강한것을 알 수 있다.\n",
        "\n",
        "최종적으로 두 분류기에서의 테스트 셋점수와 검증 셋 점수의 차이가 별로 나지 않기 때문에 믿을만한 결과라고는 할 수 있을것 같다."
      ],
      "metadata": {
        "id": "EglhxqIGEkD7"
      }
    },
    {
      "cell_type": "markdown",
      "source": [
        ""
      ],
      "metadata": {
        "id": "krxtngYJWJ54"
      }
    },
    {
      "cell_type": "code",
      "source": [
        ""
      ],
      "metadata": {
        "id": "9ka14m6QQMHY"
      },
      "execution_count": null,
      "outputs": []
    }
  ]
}