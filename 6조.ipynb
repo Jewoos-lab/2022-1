{
 "cells": [
  {
   "cell_type": "markdown",
   "metadata": {},
   "source": [
    "# 1. 데이터 불러오기"
   ]
  },
  {
   "cell_type": "code",
   "execution_count": 1,
   "metadata": {
    "_cell_guid": "b1076dfc-b9ad-4769-8c92-a6c4dae69d19",
    "_uuid": "8f2839f25d086af736a60e9eeb907d3b93b6e0e5"
   },
   "outputs": [],
   "source": [
    "import os\n",
    "\n",
    "import pandas as pd\n",
    "import numpy as np\n",
    "import matplotlib.pyplot as plt\n",
    "\n",
    "import seaborn as sns\n",
    "\n",
    "from sklearn.impute import SimpleImputer\n",
    "from sklearn.preprocessing import OneHotEncoder\n",
    "from sklearn.compose import ColumnTransformer\n",
    "from sklearn.pipeline import Pipeline\n",
    "from sklearn.ensemble import RandomForestClassifier\n",
    "from sklearn.tree import DecisionTreeClassifier\n",
    "\n",
    "from sklearn.model_selection import cross_val_score"
   ]
  },
  {
   "cell_type": "code",
   "execution_count": 2,
   "metadata": {
    "execution": {
     "iopub.execute_input": "2022-06-05T10:33:24.303177Z",
     "iopub.status.busy": "2022-06-05T10:33:24.302442Z",
     "iopub.status.idle": "2022-06-05T10:33:24.313611Z",
     "shell.execute_reply": "2022-06-05T10:33:24.312119Z",
     "shell.execute_reply.started": "2022-06-05T10:33:24.303126Z"
    }
   },
   "outputs": [],
   "source": [
    "import numpy as np # linear algebra\n",
    "import pandas as pd # data processing, CSV file I/O (e.g. pd.read_csv)\n",
    "import os\n",
    "for dirname, _, filenames in os.walk('/kaggle/input'):\n",
    "    for filename in filenames:\n",
    "        print(os.path.join(dirname, filename))"
   ]
  },
  {
   "cell_type": "code",
   "execution_count": 2,
   "metadata": {},
   "outputs": [],
   "source": [
    "# csv파일 불러오기\n",
    "train_df = pd.read_csv('/kaggle/input/titanic/train.csv')\n",
    "test_df = pd.read_csv('/kaggle/input/titanic/test.csv')"
   ]
  },
  {
   "cell_type": "code",
   "execution_count": 3,
   "metadata": {},
   "outputs": [
    {
     "data": {
      "text/html": [
       "<div>\n",
       "<style scoped>\n",
       "    .dataframe tbody tr th:only-of-type {\n",
       "        vertical-align: middle;\n",
       "    }\n",
       "\n",
       "    .dataframe tbody tr th {\n",
       "        vertical-align: top;\n",
       "    }\n",
       "\n",
       "    .dataframe thead th {\n",
       "        text-align: right;\n",
       "    }\n",
       "</style>\n",
       "<table border=\"1\" class=\"dataframe\">\n",
       "  <thead>\n",
       "    <tr style=\"text-align: right;\">\n",
       "      <th></th>\n",
       "      <th>PassengerId</th>\n",
       "      <th>Survived</th>\n",
       "      <th>Pclass</th>\n",
       "      <th>Name</th>\n",
       "      <th>Sex</th>\n",
       "      <th>Age</th>\n",
       "      <th>SibSp</th>\n",
       "      <th>Parch</th>\n",
       "      <th>Ticket</th>\n",
       "      <th>Fare</th>\n",
       "      <th>Cabin</th>\n",
       "      <th>Embarked</th>\n",
       "    </tr>\n",
       "  </thead>\n",
       "  <tbody>\n",
       "    <tr>\n",
       "      <th>0</th>\n",
       "      <td>1</td>\n",
       "      <td>0</td>\n",
       "      <td>3</td>\n",
       "      <td>Braund, Mr. Owen Harris</td>\n",
       "      <td>male</td>\n",
       "      <td>22.0</td>\n",
       "      <td>1</td>\n",
       "      <td>0</td>\n",
       "      <td>A/5 21171</td>\n",
       "      <td>7.2500</td>\n",
       "      <td>NaN</td>\n",
       "      <td>S</td>\n",
       "    </tr>\n",
       "    <tr>\n",
       "      <th>1</th>\n",
       "      <td>2</td>\n",
       "      <td>1</td>\n",
       "      <td>1</td>\n",
       "      <td>Cumings, Mrs. John Bradley (Florence Briggs Th...</td>\n",
       "      <td>female</td>\n",
       "      <td>38.0</td>\n",
       "      <td>1</td>\n",
       "      <td>0</td>\n",
       "      <td>PC 17599</td>\n",
       "      <td>71.2833</td>\n",
       "      <td>C85</td>\n",
       "      <td>C</td>\n",
       "    </tr>\n",
       "    <tr>\n",
       "      <th>2</th>\n",
       "      <td>3</td>\n",
       "      <td>1</td>\n",
       "      <td>3</td>\n",
       "      <td>Heikkinen, Miss. Laina</td>\n",
       "      <td>female</td>\n",
       "      <td>26.0</td>\n",
       "      <td>0</td>\n",
       "      <td>0</td>\n",
       "      <td>STON/O2. 3101282</td>\n",
       "      <td>7.9250</td>\n",
       "      <td>NaN</td>\n",
       "      <td>S</td>\n",
       "    </tr>\n",
       "  </tbody>\n",
       "</table>\n",
       "</div>"
      ],
      "text/plain": [
       "   PassengerId  Survived  Pclass  \\\n",
       "0            1         0       3   \n",
       "1            2         1       1   \n",
       "2            3         1       3   \n",
       "\n",
       "                                                Name     Sex   Age  SibSp  \\\n",
       "0                            Braund, Mr. Owen Harris    male  22.0      1   \n",
       "1  Cumings, Mrs. John Bradley (Florence Briggs Th...  female  38.0      1   \n",
       "2                             Heikkinen, Miss. Laina  female  26.0      0   \n",
       "\n",
       "   Parch            Ticket     Fare Cabin Embarked  \n",
       "0      0         A/5 21171   7.2500   NaN        S  \n",
       "1      0          PC 17599  71.2833   C85        C  \n",
       "2      0  STON/O2. 3101282   7.9250   NaN        S  "
      ]
     },
     "execution_count": 3,
     "metadata": {},
     "output_type": "execute_result"
    }
   ],
   "source": [
    "train_df.head(3)"
   ]
  },
  {
   "cell_type": "code",
   "execution_count": 4,
   "metadata": {},
   "outputs": [
    {
     "data": {
      "text/html": [
       "<div>\n",
       "<style scoped>\n",
       "    .dataframe tbody tr th:only-of-type {\n",
       "        vertical-align: middle;\n",
       "    }\n",
       "\n",
       "    .dataframe tbody tr th {\n",
       "        vertical-align: top;\n",
       "    }\n",
       "\n",
       "    .dataframe thead th {\n",
       "        text-align: right;\n",
       "    }\n",
       "</style>\n",
       "<table border=\"1\" class=\"dataframe\">\n",
       "  <thead>\n",
       "    <tr style=\"text-align: right;\">\n",
       "      <th></th>\n",
       "      <th>PassengerId</th>\n",
       "      <th>Pclass</th>\n",
       "      <th>Name</th>\n",
       "      <th>Sex</th>\n",
       "      <th>Age</th>\n",
       "      <th>SibSp</th>\n",
       "      <th>Parch</th>\n",
       "      <th>Ticket</th>\n",
       "      <th>Fare</th>\n",
       "      <th>Cabin</th>\n",
       "      <th>Embarked</th>\n",
       "    </tr>\n",
       "  </thead>\n",
       "  <tbody>\n",
       "    <tr>\n",
       "      <th>0</th>\n",
       "      <td>892</td>\n",
       "      <td>3</td>\n",
       "      <td>Kelly, Mr. James</td>\n",
       "      <td>male</td>\n",
       "      <td>34.5</td>\n",
       "      <td>0</td>\n",
       "      <td>0</td>\n",
       "      <td>330911</td>\n",
       "      <td>7.8292</td>\n",
       "      <td>NaN</td>\n",
       "      <td>Q</td>\n",
       "    </tr>\n",
       "    <tr>\n",
       "      <th>1</th>\n",
       "      <td>893</td>\n",
       "      <td>3</td>\n",
       "      <td>Wilkes, Mrs. James (Ellen Needs)</td>\n",
       "      <td>female</td>\n",
       "      <td>47.0</td>\n",
       "      <td>1</td>\n",
       "      <td>0</td>\n",
       "      <td>363272</td>\n",
       "      <td>7.0000</td>\n",
       "      <td>NaN</td>\n",
       "      <td>S</td>\n",
       "    </tr>\n",
       "    <tr>\n",
       "      <th>2</th>\n",
       "      <td>894</td>\n",
       "      <td>2</td>\n",
       "      <td>Myles, Mr. Thomas Francis</td>\n",
       "      <td>male</td>\n",
       "      <td>62.0</td>\n",
       "      <td>0</td>\n",
       "      <td>0</td>\n",
       "      <td>240276</td>\n",
       "      <td>9.6875</td>\n",
       "      <td>NaN</td>\n",
       "      <td>Q</td>\n",
       "    </tr>\n",
       "  </tbody>\n",
       "</table>\n",
       "</div>"
      ],
      "text/plain": [
       "   PassengerId  Pclass                              Name     Sex   Age  SibSp  \\\n",
       "0          892       3                  Kelly, Mr. James    male  34.5      0   \n",
       "1          893       3  Wilkes, Mrs. James (Ellen Needs)  female  47.0      1   \n",
       "2          894       2         Myles, Mr. Thomas Francis    male  62.0      0   \n",
       "\n",
       "   Parch  Ticket    Fare Cabin Embarked  \n",
       "0      0  330911  7.8292   NaN        Q  \n",
       "1      0  363272  7.0000   NaN        S  \n",
       "2      0  240276  9.6875   NaN        Q  "
      ]
     },
     "execution_count": 4,
     "metadata": {},
     "output_type": "execute_result"
    }
   ],
   "source": [
    "test_df.head(3)"
   ]
  },
  {
   "cell_type": "markdown",
   "metadata": {},
   "source": [
    "# 2. EDA"
   ]
  },
  {
   "cell_type": "code",
   "execution_count": 5,
   "metadata": {},
   "outputs": [
    {
     "name": "stdout",
     "output_type": "stream",
     "text": [
      "<class 'pandas.core.frame.DataFrame'>\n",
      "RangeIndex: 891 entries, 0 to 890\n",
      "Data columns (total 12 columns):\n",
      " #   Column       Non-Null Count  Dtype  \n",
      "---  ------       --------------  -----  \n",
      " 0   PassengerId  891 non-null    int64  \n",
      " 1   Survived     891 non-null    int64  \n",
      " 2   Pclass       891 non-null    int64  \n",
      " 3   Name         891 non-null    object \n",
      " 4   Sex          891 non-null    object \n",
      " 5   Age          714 non-null    float64\n",
      " 6   SibSp        891 non-null    int64  \n",
      " 7   Parch        891 non-null    int64  \n",
      " 8   Ticket       891 non-null    object \n",
      " 9   Fare         891 non-null    float64\n",
      " 10  Cabin        204 non-null    object \n",
      " 11  Embarked     889 non-null    object \n",
      "dtypes: float64(2), int64(5), object(5)\n",
      "memory usage: 83.7+ KB\n"
     ]
    }
   ],
   "source": [
    "# 컬럼별 정보 확인하기\n",
    "train_df.info()\n",
    "\n",
    "# train데이터 세트에는 Age, Cabin, Embarked 컬럼에 Nan값이 있는것을 확인하였다."
   ]
  },
  {
   "cell_type": "code",
   "execution_count": 6,
   "metadata": {},
   "outputs": [
    {
     "name": "stdout",
     "output_type": "stream",
     "text": [
      "<class 'pandas.core.frame.DataFrame'>\n",
      "RangeIndex: 418 entries, 0 to 417\n",
      "Data columns (total 11 columns):\n",
      " #   Column       Non-Null Count  Dtype  \n",
      "---  ------       --------------  -----  \n",
      " 0   PassengerId  418 non-null    int64  \n",
      " 1   Pclass       418 non-null    int64  \n",
      " 2   Name         418 non-null    object \n",
      " 3   Sex          418 non-null    object \n",
      " 4   Age          332 non-null    float64\n",
      " 5   SibSp        418 non-null    int64  \n",
      " 6   Parch        418 non-null    int64  \n",
      " 7   Ticket       418 non-null    object \n",
      " 8   Fare         417 non-null    float64\n",
      " 9   Cabin        91 non-null     object \n",
      " 10  Embarked     418 non-null    object \n",
      "dtypes: float64(2), int64(4), object(5)\n",
      "memory usage: 36.0+ KB\n"
     ]
    }
   ],
   "source": [
    "# 컬럼별 정보 확인하기\n",
    "test_df.info()\n",
    "\n",
    "# test데이터 세트에는 Age, Fare, Cabin 컬럼에 Nan값이 있는것을 확인하였다."
   ]
  },
  {
   "cell_type": "markdown",
   "metadata": {},
   "source": [
    "### 2.1 Survived"
   ]
  },
  {
   "cell_type": "code",
   "execution_count": 7,
   "metadata": {},
   "outputs": [
    {
     "data": {
      "text/html": [
       "<div>\n",
       "<style scoped>\n",
       "    .dataframe tbody tr th:only-of-type {\n",
       "        vertical-align: middle;\n",
       "    }\n",
       "\n",
       "    .dataframe tbody tr th {\n",
       "        vertical-align: top;\n",
       "    }\n",
       "\n",
       "    .dataframe thead th {\n",
       "        text-align: right;\n",
       "    }\n",
       "</style>\n",
       "<table border=\"1\" class=\"dataframe\">\n",
       "  <thead>\n",
       "    <tr style=\"text-align: right;\">\n",
       "      <th></th>\n",
       "      <th>Survived</th>\n",
       "    </tr>\n",
       "  </thead>\n",
       "  <tbody>\n",
       "    <tr>\n",
       "      <th>0</th>\n",
       "      <td>549</td>\n",
       "    </tr>\n",
       "    <tr>\n",
       "      <th>1</th>\n",
       "      <td>342</td>\n",
       "    </tr>\n",
       "  </tbody>\n",
       "</table>\n",
       "</div>"
      ],
      "text/plain": [
       "   Survived\n",
       "0       549\n",
       "1       342"
      ]
     },
     "execution_count": 7,
     "metadata": {},
     "output_type": "execute_result"
    }
   ],
   "source": [
    "# 데이터값 확인하기\n",
    "train_df['Survived'].value_counts().to_frame()"
   ]
  },
  {
   "cell_type": "code",
   "execution_count": 8,
   "metadata": {},
   "outputs": [
    {
     "data": {
      "text/plain": [
       "<AxesSubplot:ylabel='Survived'>"
      ]
     },
     "execution_count": 8,
     "metadata": {},
     "output_type": "execute_result"
    },
    {
     "data": {
      "image/png": "[encoded data removed]",
      "text/plain": [
       "<Figure size 1008x360 with 1 Axes>"
      ]
     },
     "metadata": {},
     "output_type": "display_data"
    }
   ],
   "source": [
    "# 사망(0)과 생존(1)의 수치를 시각화 하였다.\n",
    "fig, ax = plt.subplots(figsize=(14,5))\n",
    "labels = ['Perish', 'Survived']\n",
    " \n",
    "train_df['Survived'].value_counts().plot.pie(explode=[0,0.1], shadow=True, autopct='%1.1f%%', labels=labels)\n"
   ]
  },
  {
   "cell_type": "markdown",
   "metadata": {},
   "source": [
    "⭐️ 해석\n",
    "\n",
    "* 사망과 생존의 총 비율을 파이차트로 나타낸 것인데, 안타깝게도 사망률이 생존률보다 대략 23퍼정도 높게 나왔다."
   ]
  },
  {
   "cell_type": "markdown",
   "metadata": {},
   "source": [
    "### 2.2 Gender"
   ]
  },
  {
   "cell_type": "code",
   "execution_count": 9,
   "metadata": {},
   "outputs": [
    {
     "data": {
      "image/png": "[encoded data removed]",
      "text/plain": [
       "<Figure size 1080x432 with 2 Axes>"
      ]
     },
     "metadata": {
      "needs_background": "light"
     },
     "output_type": "display_data"
    }
   ],
   "source": [
    "# 성별에 따라 사망자의 수를 시각화 하는 과정이며\n",
    "# 왼쪽 남녀별 생수, 오른쪽은 생존자수의 비율이다.\n",
    "\n",
    "fx, axes = plt.subplots(1, 2, figsize=(15, 6))\n",
    "axes[0].set_title(\"Gender count\")\n",
    "axes[1].set_title(\"Survived rate\")\n",
    "fig1_gen = sns.countplot(data=train_df, x='Sex', ax=axes[0])\n",
    "fig2_gen = sns.barplot(data=train_df, x='Sex', y='Survived', ax=axes[1])"
   ]
  },
  {
   "cell_type": "code",
   "execution_count": 10,
   "metadata": {},
   "outputs": [
    {
     "data": {
      "text/html": [
       "<div>\n",
       "<style scoped>\n",
       "    .dataframe tbody tr th:only-of-type {\n",
       "        vertical-align: middle;\n",
       "    }\n",
       "\n",
       "    .dataframe tbody tr th {\n",
       "        vertical-align: top;\n",
       "    }\n",
       "\n",
       "    .dataframe thead th {\n",
       "        text-align: right;\n",
       "    }\n",
       "</style>\n",
       "<table border=\"1\" class=\"dataframe\">\n",
       "  <thead>\n",
       "    <tr style=\"text-align: right;\">\n",
       "      <th></th>\n",
       "      <th>Survived</th>\n",
       "    </tr>\n",
       "    <tr>\n",
       "      <th>Sex</th>\n",
       "      <th></th>\n",
       "    </tr>\n",
       "  </thead>\n",
       "  <tbody>\n",
       "    <tr>\n",
       "      <th>female</th>\n",
       "      <td>0.742038</td>\n",
       "    </tr>\n",
       "    <tr>\n",
       "      <th>male</th>\n",
       "      <td>0.188908</td>\n",
       "    </tr>\n",
       "  </tbody>\n",
       "</table>\n",
       "</div>"
      ],
      "text/plain": [
       "        Survived\n",
       "Sex             \n",
       "female  0.742038\n",
       "male    0.188908"
      ]
     },
     "execution_count": 10,
     "metadata": {},
     "output_type": "execute_result"
    }
   ],
   "source": [
    "# 성별로 그룹화를 시켜 생존의 평균값을 나타내었다.\n",
    "train_df.groupby('Sex').Survived.mean().to_frame()"
   ]
  },
  {
   "cell_type": "markdown",
   "metadata": {},
   "source": [
    "⭐️ 해석 \n",
    "\n",
    "* 남성승객이 더 많음에도 불구하고, 대다수의 생존자가 여성임을 알 수 있다. 여성의 생존률이 남성의 생존률보다 약 4배 높다는 것을 확인할 수 있었다."
   ]
  },
  {
   "cell_type": "markdown",
   "metadata": {},
   "source": [
    "### 2.3 Pclass"
   ]
  },
  {
   "cell_type": "code",
   "execution_count": 11,
   "metadata": {},
   "outputs": [
    {
     "data": {
      "image/png": "[encoded data removed]",
      "text/plain": [
       "<Figure size 1080x432 with 2 Axes>"
      ]
     },
     "metadata": {
      "needs_background": "light"
     },
     "output_type": "display_data"
    }
   ],
   "source": [
    "fx, axes = plt.subplots(1, 2, figsize=(15, 6))\n",
    "axes[0].set_title(\"Pclass's Survival count\")\n",
    "axes[1].set_title(\"Pclass's Survival rate\")\n",
    "fig1_pclass = sns.countplot(data=train_df, x='Pclass', ax=axes[0])\n",
    "fig2_pclass = sns.barplot(data=train_df, x='Pclass',y='Survived', ax=axes[1])"
   ]
  },
  {
   "cell_type": "code",
   "execution_count": 12,
   "metadata": {},
   "outputs": [
    {
     "name": "stdout",
     "output_type": "stream",
     "text": [
      "   Pclass  Survived\n",
      "0       1  0.629630\n",
      "1       2  0.472826\n",
      "2       3  0.242363\n"
     ]
    }
   ],
   "source": [
    "print(train_df[['Pclass', 'Survived']].groupby(['Pclass'], as_index=False).mean())"
   ]
  },
  {
   "cell_type": "markdown",
   "metadata": {},
   "source": [
    "⭐️ 해석\n",
    "* Pclass에 따른 승객 수는 3 > 1 > 2 순서이고\n",
    "* 클래스별 생존율은 1 > 2 > 3 순서이다.\n",
    "* 따라서 1등석 승객은 생존률이 더 높다."
   ]
  },
  {
   "cell_type": "markdown",
   "metadata": {},
   "source": [
    "### 2.4 Age"
   ]
  },
  {
   "cell_type": "code",
   "execution_count": 13,
   "metadata": {},
   "outputs": [
    {
     "data": {
      "image/png": "[encoded data removed]",
      "text/plain": [
       "<Figure size 1080x360 with 2 Axes>"
      ]
     },
     "metadata": {
      "needs_background": "light"
     },
     "output_type": "display_data"
    }
   ],
   "source": [
    "import warnings\n",
    "warnings.filterwarnings('ignore')\n",
    "\n",
    "# 나이에 따른 분포\n",
    "\n",
    "training_age_n = train_df.Age.dropna(axis=0)\n",
    "\n",
    "fx, axes = plt.subplots(1, 2, figsize=(15,5))\n",
    "axes[0].set_title(\"Age vs frequency\")\n",
    "axes[1].set_title(\"Age vise Survival rate\")\n",
    "fig1_age = sns.distplot(a=training_age_n, bins=15, ax=axes[0], hist_kws={'rwidth':0.7})  # hist_kws를 통해 막대사이의 간격을 띄어준다.\n",
    "\n",
    "# 나이에 따른 생존, 사망비율 시각화\n",
    "\n",
    "pass_survived_age = train_df[train_df.Survived == 1].Age\n",
    "pass_dead_age = train_df[train_df.Survived == 0].Age\n",
    "\n",
    "axes[1].hist([train_df.Age, pass_survived_age, pass_dead_age], bins=5, range=(0, 100), label=['Total', 'Survived', 'Dead'])\n",
    "axes[1].legend()\n",
    "plt.show()"
   ]
  },
  {
   "cell_type": "markdown",
   "metadata": {},
   "source": [
    "⭐️ 해석\n",
    "\n",
    "* 10대 후반 ~ 30대까지의 분포도가 가장 많으며\n",
    "\n",
    "* 사망비율 또한 20~40대 사이에 가장 많은 것을 확인할 수 있었다."
   ]
  },
  {
   "cell_type": "markdown",
   "metadata": {},
   "source": [
    "### 2.5 Fare"
   ]
  },
  {
   "cell_type": "code",
   "execution_count": 14,
   "metadata": {},
   "outputs": [
    {
     "data": {
      "image/png": "[encoded data removed]",
      "text/plain": [
       "<Figure size 1080x360 with 2 Axes>"
      ]
     },
     "metadata": {
      "needs_background": "light"
     },
     "output_type": "display_data"
    }
   ],
   "source": [
    "fx, axes = plt.subplots(1, 2, figsize=(15,5))\n",
    "fig1_fare = sns.distplot(a=train_df.Fare, bins=15, ax=axes[0])\n",
    "fig1_fare.set_title('Fare vise Frequency')\n",
    "\n",
    "# 생존자의 요금과 사망자의 요금을 알아보았다.\n",
    "pass_survived_fare = train_df[train_df.Survived == 1].Fare\n",
    "pass_dead_fare = train_df[train_df.Survived == 0].Fare\n",
    "\n",
    "axes[1].hist(x=[train_df.Fare, pass_survived_fare, pass_dead_fare], bins=5, label=['Total', 'Survived', 'Dead'], \\\n",
    "        log=True)  # 요금 숫자가 너무 커서 log를 취했다.\n",
    "axes[1].legend()\n",
    "axes[1].set_title('Fare vise Survival')\n",
    "plt.show()"
   ]
  },
  {
   "cell_type": "markdown",
   "metadata": {},
   "source": [
    "⭐️ 해석\n",
    "\n",
    "* 0-100사이에서 생존률과 사망률 모두 높다\n",
    "* Fare의 비율이 높을수록 생존 확률이 높아진다."
   ]
  },
  {
   "cell_type": "markdown",
   "metadata": {},
   "source": [
    "### 2.6 Embarked"
   ]
  },
  {
   "cell_type": "code",
   "execution_count": 15,
   "metadata": {},
   "outputs": [
    {
     "data": {
      "image/png": "[encoded data removed]",
      "text/plain": [
       "<Figure size 1080x360 with 2 Axes>"
      ]
     },
     "metadata": {
      "needs_background": "light"
     },
     "output_type": "display_data"
    }
   ],
   "source": [
    "# Embarked별 수와 Embarked에 따른 생존율을 시각화 하였다.\n",
    "\n",
    "fx, axes = plt.subplots(1, 2, figsize=(15,5))\n",
    "axes[0].set_title('Embarked Counts')\n",
    "axes[1].set_title('Survival Rate vs Embarked')\n",
    "fig1_embarked = sns.countplot(x=train_df.Embarked, ax=axes[0])\n",
    "fig2_embarked = sns.barplot(x=train_df.Embarked, y=train_df.Survived, ax=axes[1])"
   ]
  },
  {
   "cell_type": "markdown",
   "metadata": {},
   "source": [
    "⭐️ 해석\n",
    "\n",
    "* 힝구별 승객이 가장 많은 곳은 S이며, C항구에서 탑승한 승객의 사망률이 가장 높은것을 확인할 수 있었다."
   ]
  },
  {
   "cell_type": "markdown",
   "metadata": {},
   "source": [
    "# 3. 전처리"
   ]
  },
  {
   "cell_type": "markdown",
   "metadata": {},
   "source": [
    "### Name"
   ]
  },
  {
   "cell_type": "code",
   "execution_count": 16,
   "metadata": {},
   "outputs": [],
   "source": [
    "train_df['Title'] = train_df['Name'].apply(lambda x: x.split(',')[1].split('.')[0].strip())\n",
    "test_df['Title'] = test_df['Name'].apply(lambda x: x.split(',')[1].split('.')[0].strip())"
   ]
  },
  {
   "cell_type": "code",
   "execution_count": 17,
   "metadata": {},
   "outputs": [
    {
     "data": {
      "text/html": [
       "<div>\n",
       "<style scoped>\n",
       "    .dataframe tbody tr th:only-of-type {\n",
       "        vertical-align: middle;\n",
       "    }\n",
       "\n",
       "    .dataframe tbody tr th {\n",
       "        vertical-align: top;\n",
       "    }\n",
       "\n",
       "    .dataframe thead th {\n",
       "        text-align: right;\n",
       "    }\n",
       "</style>\n",
       "<table border=\"1\" class=\"dataframe\">\n",
       "  <thead>\n",
       "    <tr style=\"text-align: right;\">\n",
       "      <th></th>\n",
       "      <th>PassengerId</th>\n",
       "      <th>Survived</th>\n",
       "      <th>Pclass</th>\n",
       "      <th>Name</th>\n",
       "      <th>Sex</th>\n",
       "      <th>Age</th>\n",
       "      <th>SibSp</th>\n",
       "      <th>Parch</th>\n",
       "      <th>Ticket</th>\n",
       "      <th>Fare</th>\n",
       "      <th>Cabin</th>\n",
       "      <th>Embarked</th>\n",
       "      <th>Title</th>\n",
       "    </tr>\n",
       "  </thead>\n",
       "  <tbody>\n",
       "    <tr>\n",
       "      <th>0</th>\n",
       "      <td>1</td>\n",
       "      <td>0</td>\n",
       "      <td>3</td>\n",
       "      <td>Braund, Mr. Owen Harris</td>\n",
       "      <td>male</td>\n",
       "      <td>22.0</td>\n",
       "      <td>1</td>\n",
       "      <td>0</td>\n",
       "      <td>A/5 21171</td>\n",
       "      <td>7.2500</td>\n",
       "      <td>NaN</td>\n",
       "      <td>S</td>\n",
       "      <td>Mr</td>\n",
       "    </tr>\n",
       "    <tr>\n",
       "      <th>1</th>\n",
       "      <td>2</td>\n",
       "      <td>1</td>\n",
       "      <td>1</td>\n",
       "      <td>Cumings, Mrs. John Bradley (Florence Briggs Th...</td>\n",
       "      <td>female</td>\n",
       "      <td>38.0</td>\n",
       "      <td>1</td>\n",
       "      <td>0</td>\n",
       "      <td>PC 17599</td>\n",
       "      <td>71.2833</td>\n",
       "      <td>C85</td>\n",
       "      <td>C</td>\n",
       "      <td>Mrs</td>\n",
       "    </tr>\n",
       "    <tr>\n",
       "      <th>2</th>\n",
       "      <td>3</td>\n",
       "      <td>1</td>\n",
       "      <td>3</td>\n",
       "      <td>Heikkinen, Miss. Laina</td>\n",
       "      <td>female</td>\n",
       "      <td>26.0</td>\n",
       "      <td>0</td>\n",
       "      <td>0</td>\n",
       "      <td>STON/O2. 3101282</td>\n",
       "      <td>7.9250</td>\n",
       "      <td>NaN</td>\n",
       "      <td>S</td>\n",
       "      <td>Miss</td>\n",
       "    </tr>\n",
       "    <tr>\n",
       "      <th>3</th>\n",
       "      <td>4</td>\n",
       "      <td>1</td>\n",
       "      <td>1</td>\n",
       "      <td>Futrelle, Mrs. Jacques Heath (Lily May Peel)</td>\n",
       "      <td>female</td>\n",
       "      <td>35.0</td>\n",
       "      <td>1</td>\n",
       "      <td>0</td>\n",
       "      <td>113803</td>\n",
       "      <td>53.1000</td>\n",
       "      <td>C123</td>\n",
       "      <td>S</td>\n",
       "      <td>Mrs</td>\n",
       "    </tr>\n",
       "    <tr>\n",
       "      <th>4</th>\n",
       "      <td>5</td>\n",
       "      <td>0</td>\n",
       "      <td>3</td>\n",
       "      <td>Allen, Mr. William Henry</td>\n",
       "      <td>male</td>\n",
       "      <td>35.0</td>\n",
       "      <td>0</td>\n",
       "      <td>0</td>\n",
       "      <td>373450</td>\n",
       "      <td>8.0500</td>\n",
       "      <td>NaN</td>\n",
       "      <td>S</td>\n",
       "      <td>Mr</td>\n",
       "    </tr>\n",
       "  </tbody>\n",
       "</table>\n",
       "</div>"
      ],
      "text/plain": [
       "   PassengerId  Survived  Pclass  \\\n",
       "0            1         0       3   \n",
       "1            2         1       1   \n",
       "2            3         1       3   \n",
       "3            4         1       1   \n",
       "4            5         0       3   \n",
       "\n",
       "                                                Name     Sex   Age  SibSp  \\\n",
       "0                            Braund, Mr. Owen Harris    male  22.0      1   \n",
       "1  Cumings, Mrs. John Bradley (Florence Briggs Th...  female  38.0      1   \n",
       "2                             Heikkinen, Miss. Laina  female  26.0      0   \n",
       "3       Futrelle, Mrs. Jacques Heath (Lily May Peel)  female  35.0      1   \n",
       "4                           Allen, Mr. William Henry    male  35.0      0   \n",
       "\n",
       "   Parch            Ticket     Fare Cabin Embarked Title  \n",
       "0      0         A/5 21171   7.2500   NaN        S    Mr  \n",
       "1      0          PC 17599  71.2833   C85        C   Mrs  \n",
       "2      0  STON/O2. 3101282   7.9250   NaN        S  Miss  \n",
       "3      0            113803  53.1000  C123        S   Mrs  \n",
       "4      0            373450   8.0500   NaN        S    Mr  "
      ]
     },
     "execution_count": 17,
     "metadata": {},
     "output_type": "execute_result"
    }
   ],
   "source": [
    "train_df.head()"
   ]
  },
  {
   "cell_type": "code",
   "execution_count": 18,
   "metadata": {},
   "outputs": [
    {
     "data": {
      "text/html": [
       "<div>\n",
       "<style scoped>\n",
       "    .dataframe tbody tr th:only-of-type {\n",
       "        vertical-align: middle;\n",
       "    }\n",
       "\n",
       "    .dataframe tbody tr th {\n",
       "        vertical-align: top;\n",
       "    }\n",
       "\n",
       "    .dataframe thead th {\n",
       "        text-align: right;\n",
       "    }\n",
       "</style>\n",
       "<table border=\"1\" class=\"dataframe\">\n",
       "  <thead>\n",
       "    <tr style=\"text-align: right;\">\n",
       "      <th></th>\n",
       "      <th>Title</th>\n",
       "    </tr>\n",
       "  </thead>\n",
       "  <tbody>\n",
       "    <tr>\n",
       "      <th>Mr</th>\n",
       "      <td>517</td>\n",
       "    </tr>\n",
       "    <tr>\n",
       "      <th>Miss</th>\n",
       "      <td>182</td>\n",
       "    </tr>\n",
       "    <tr>\n",
       "      <th>Mrs</th>\n",
       "      <td>125</td>\n",
       "    </tr>\n",
       "    <tr>\n",
       "      <th>Master</th>\n",
       "      <td>40</td>\n",
       "    </tr>\n",
       "    <tr>\n",
       "      <th>Dr</th>\n",
       "      <td>7</td>\n",
       "    </tr>\n",
       "    <tr>\n",
       "      <th>Rev</th>\n",
       "      <td>6</td>\n",
       "    </tr>\n",
       "    <tr>\n",
       "      <th>Mlle</th>\n",
       "      <td>2</td>\n",
       "    </tr>\n",
       "    <tr>\n",
       "      <th>Col</th>\n",
       "      <td>2</td>\n",
       "    </tr>\n",
       "    <tr>\n",
       "      <th>Major</th>\n",
       "      <td>2</td>\n",
       "    </tr>\n",
       "    <tr>\n",
       "      <th>the Countess</th>\n",
       "      <td>1</td>\n",
       "    </tr>\n",
       "    <tr>\n",
       "      <th>Capt</th>\n",
       "      <td>1</td>\n",
       "    </tr>\n",
       "    <tr>\n",
       "      <th>Ms</th>\n",
       "      <td>1</td>\n",
       "    </tr>\n",
       "    <tr>\n",
       "      <th>Lady</th>\n",
       "      <td>1</td>\n",
       "    </tr>\n",
       "    <tr>\n",
       "      <th>Mme</th>\n",
       "      <td>1</td>\n",
       "    </tr>\n",
       "    <tr>\n",
       "      <th>Sir</th>\n",
       "      <td>1</td>\n",
       "    </tr>\n",
       "    <tr>\n",
       "      <th>Jonkheer</th>\n",
       "      <td>1</td>\n",
       "    </tr>\n",
       "    <tr>\n",
       "      <th>Don</th>\n",
       "      <td>1</td>\n",
       "    </tr>\n",
       "  </tbody>\n",
       "</table>\n",
       "</div>"
      ],
      "text/plain": [
       "              Title\n",
       "Mr              517\n",
       "Miss            182\n",
       "Mrs             125\n",
       "Master           40\n",
       "Dr                7\n",
       "Rev               6\n",
       "Mlle              2\n",
       "Col               2\n",
       "Major             2\n",
       "the Countess      1\n",
       "Capt              1\n",
       "Ms                1\n",
       "Lady              1\n",
       "Mme               1\n",
       "Sir               1\n",
       "Jonkheer          1\n",
       "Don               1"
      ]
     },
     "execution_count": 18,
     "metadata": {},
     "output_type": "execute_result"
    }
   ],
   "source": [
    "train_df['Title'].value_counts().to_frame()\n",
    "\n",
    "# Title이 심하게 불균형하다. 따라서 통합을 하기위해 남성직함을 Mr, 여성직함을 Mrs로 바꿀 필요가 있어보인다."
   ]
  },
  {
   "cell_type": "code",
   "execution_count": 19,
   "metadata": {},
   "outputs": [],
   "source": [
    "# 최대한 drop을 하지 않고 많은 컬럼을 사용하기 위해서, 이름또한 단일화 작업을 하여 Title컬럼에 넣어주었다.\n",
    "# 단일화 작업없이 그대로 카테고리화 시켜 진행을 했을때, 데이터의 총 량에 비해 복잡도가 너무 올라가는 경향이 있었기 때문에\n",
    "# 여성의 성으로 간주되는 값들은 Miss, 남성의 성으로 간주되는 값들은 Mr로 대체해주는 작업을 진행하였다.\n",
    "\n",
    "train_df['Title'] = train_df['Title'].replace(['Mme', 'Ms', 'Lady', 'Mlle', 'the Countess', 'Dona'], 'Miss')\n",
    "test_df['Title'] = test_df['Title'].replace(['Mme', 'Ms', 'Lady', 'Mlle', 'the Countess', 'Dona'], 'Miss')\n",
    "train_df['Title'] = train_df['Title'].replace(['Major', 'Col', 'Capt', 'Don', 'Sir', 'Jonkheer'], 'Mr')\n",
    "test_df['Title'] = test_df['Title'].replace(['Major', 'Col', 'Capt', 'Don', 'Sir', 'Jonkheer'], 'Mr')"
   ]
  },
  {
   "cell_type": "code",
   "execution_count": 20,
   "metadata": {},
   "outputs": [
    {
     "data": {
      "text/html": [
       "<div>\n",
       "<style scoped>\n",
       "    .dataframe tbody tr th:only-of-type {\n",
       "        vertical-align: middle;\n",
       "    }\n",
       "\n",
       "    .dataframe tbody tr th {\n",
       "        vertical-align: top;\n",
       "    }\n",
       "\n",
       "    .dataframe thead th {\n",
       "        text-align: right;\n",
       "    }\n",
       "</style>\n",
       "<table border=\"1\" class=\"dataframe\">\n",
       "  <thead>\n",
       "    <tr style=\"text-align: right;\">\n",
       "      <th></th>\n",
       "      <th>Title</th>\n",
       "    </tr>\n",
       "  </thead>\n",
       "  <tbody>\n",
       "    <tr>\n",
       "      <th>Mr</th>\n",
       "      <td>525</td>\n",
       "    </tr>\n",
       "    <tr>\n",
       "      <th>Miss</th>\n",
       "      <td>188</td>\n",
       "    </tr>\n",
       "    <tr>\n",
       "      <th>Mrs</th>\n",
       "      <td>125</td>\n",
       "    </tr>\n",
       "    <tr>\n",
       "      <th>Master</th>\n",
       "      <td>40</td>\n",
       "    </tr>\n",
       "    <tr>\n",
       "      <th>Dr</th>\n",
       "      <td>7</td>\n",
       "    </tr>\n",
       "    <tr>\n",
       "      <th>Rev</th>\n",
       "      <td>6</td>\n",
       "    </tr>\n",
       "  </tbody>\n",
       "</table>\n",
       "</div>"
      ],
      "text/plain": [
       "        Title\n",
       "Mr        525\n",
       "Miss      188\n",
       "Mrs       125\n",
       "Master     40\n",
       "Dr          7\n",
       "Rev         6"
      ]
     },
     "execution_count": 20,
     "metadata": {},
     "output_type": "execute_result"
    }
   ],
   "source": [
    "train_df['Title'].value_counts().to_frame()\n",
    "\n",
    "# 전보다 더 깔끔해진 것을 확인할 수 있다.\n",
    "\n",
    "# Mr : 남성\n",
    "# Miss : 미혼 여성\n",
    "# Mrs : 기혼 여성\n",
    "# Master : 너무 어려 \"Mr\" 붙일 수 없는 소년\n",
    "# Dr : 박사, 의사\n",
    "# Rev : 목사, 신부"
   ]
  },
  {
   "cell_type": "markdown",
   "metadata": {},
   "source": [
    "### Age"
   ]
  },
  {
   "cell_type": "code",
   "execution_count": 21,
   "metadata": {},
   "outputs": [],
   "source": [
    "# 빼자..\n",
    "\n",
    "# # Train\n",
    "# train_df.loc[ train_df['Age'] <= 10, 'Age_clean'] = 0\n",
    "# train_df.loc[(train_df['Age'] > 10) & (train_df['Age'] <= 16), 'Age_clean'] = 1\n",
    "# train_df.loc[(train_df['Age'] > 16) & (train_df['Age'] <= 20), 'Age_clean'] = 2\n",
    "# train_df.loc[(train_df['Age'] > 20) & (train_df['Age'] <= 26), 'Age_clean'] = 3\n",
    "# train_df.loc[(train_df['Age'] > 26) & (train_df['Age'] <= 30), 'Age_clean'] = 4\n",
    "# train_df.loc[(train_df['Age'] > 30) & (train_df['Age'] <= 36), 'Age_clean'] = 5\n",
    "# train_df.loc[(train_df['Age'] > 36) & (train_df['Age'] <= 40), 'Age_clean'] = 6\n",
    "# train_df.loc[(train_df['Age'] > 40) & (train_df['Age'] <= 46), 'Age_clean'] = 7\n",
    "# train_df.loc[(train_df['Age'] > 46) & (train_df['Age'] <= 50), 'Age_clean'] = 8\n",
    "# train_df.loc[(train_df['Age'] > 50) & (train_df['Age'] <= 60), 'Age_clean'] = 9\n",
    "# train_df.loc[ train_df['Age'] > 60, 'Age_clean'] = 10\n",
    "\n",
    "# # Test\n",
    "# test_df.loc[ test_df['Age'] <= 10, 'Age_clean'] = 0\n",
    "# test_df.loc[(test_df['Age'] > 10) & (test_df['Age'] <= 16), 'Age_clean'] = 1\n",
    "# test_df.loc[(test_df['Age'] > 16) & (test_df['Age'] <= 20), 'Age_clean'] = 2\n",
    "# test_df.loc[(test_df['Age'] > 20) & (test_df['Age'] <= 26), 'Age_clean'] = 3\n",
    "# test_df.loc[(test_df['Age'] > 26) & (test_df['Age'] <= 30), 'Age_clean'] = 4\n",
    "# test_df.loc[(test_df['Age'] > 30) & (test_df['Age'] <= 36), 'Age_clean'] = 5\n",
    "# test_df.loc[(test_df['Age'] > 36) & (test_df['Age'] <= 40), 'Age_clean'] = 6\n",
    "# test_df.loc[(test_df['Age'] > 40) & (test_df['Age'] <= 46), 'Age_clean'] = 7\n",
    "# test_df.loc[(test_df['Age'] > 46) & (test_df['Age'] <= 50), 'Age_clean'] = 8\n",
    "# test_df.loc[(test_df['Age'] > 50) & (test_df['Age'] <= 60), 'Age_clean'] = 9\n",
    "# test_df.loc[ test_df['Age'] > 60, 'Age_clean'] = 10"
   ]
  },
  {
   "cell_type": "markdown",
   "metadata": {},
   "source": [
    "### SibSp(형제 또는 배우자의 수) + Parch(함께 탑승한 부모, 아이의 수)"
   ]
  },
  {
   "cell_type": "code",
   "execution_count": 22,
   "metadata": {},
   "outputs": [],
   "source": [
    "train_df['Family_size'] = train_df['SibSp'] + train_df['Parch'] + 1\n",
    "test_df['Family_size'] = test_df['SibSp'] + test_df['Parch'] + 1"
   ]
  },
  {
   "cell_type": "code",
   "execution_count": 23,
   "metadata": {},
   "outputs": [],
   "source": [
    "train_df['Family_size'] = pd.cut(train_df.Family_size, [0,1,4,7,11], labels=['Solo', 'Small', 'Big', 'Very big'])\n",
    "test_df['Family_size'] = pd.cut(test_df.Family_size, [0,1,4,7,11], labels=['Solo', 'Small', 'Big', 'Very big'])"
   ]
  },
  {
   "cell_type": "code",
   "execution_count": 24,
   "metadata": {},
   "outputs": [
    {
     "data": {
      "text/plain": [
       "Solo        537\n",
       "Small       292\n",
       "Big          49\n",
       "Very big     13\n",
       "Name: Family_size, dtype: int64"
      ]
     },
     "execution_count": 24,
     "metadata": {},
     "output_type": "execute_result"
    }
   ],
   "source": [
    "train_df['Family_size'].value_counts()"
   ]
  },
  {
   "cell_type": "markdown",
   "metadata": {},
   "source": [
    "### Cabin"
   ]
  },
  {
   "cell_type": "code",
   "execution_count": 25,
   "metadata": {},
   "outputs": [
    {
     "data": {
      "text/plain": [
       "5.0    491\n",
       "2.0    216\n",
       "4.5    184\n",
       "Name: Cabin_clean, dtype: int64"
      ]
     },
     "execution_count": 25,
     "metadata": {},
     "output_type": "execute_result"
    }
   ],
   "source": [
    "# Cabin컬럼에는 맨 앞의 알파벳만 가져오기로 하였다. 그 결과 A,B,C,D,E,F,G,T를 얻을 수 있었고\n",
    "# Cabin컬럼의 많은 Nan값은 Pclass로 그룹한 후, median값을 채워넣어 주었다.\n",
    "\n",
    "train_df['Cabin'].str[:1].value_counts()\n",
    "\n",
    "mapping = {\n",
    "    'A': 0,\n",
    "    'B': 1,\n",
    "    'C': 2,\n",
    "    'D': 3,\n",
    "    'E': 4,\n",
    "    'F': 5,\n",
    "    'G': 6,\n",
    "    'T': 7\n",
    "}\n",
    "\n",
    "train_df['Cabin_clean'] = train_df['Cabin'].str[:1]\n",
    "train_df['Cabin_clean'] = train_df['Cabin_clean'].map(mapping)\n",
    "train_df['Cabin_clean'] = train_df.groupby('Pclass')['Cabin_clean'].transform('median')\n",
    "\n",
    "test_df['Cabin_clean'] = test_df['Cabin'].str[:1]\n",
    "test_df['Cabin_clean'] = test_df['Cabin_clean'].map(mapping)\n",
    "test_df['Cabin_clean'] = test_df.groupby('Pclass')['Cabin_clean'].transform('median')\n",
    "\n",
    "train_df['Cabin_clean'].value_counts()"
   ]
  },
  {
   "cell_type": "code",
   "execution_count": 26,
   "metadata": {},
   "outputs": [
    {
     "data": {
      "text/plain": [
       "5.0    311\n",
       "2.0    107\n",
       "Name: Cabin_clean, dtype: int64"
      ]
     },
     "execution_count": 26,
     "metadata": {},
     "output_type": "execute_result"
    }
   ],
   "source": [
    "test_df['Cabin_clean'].value_counts()"
   ]
  },
  {
   "cell_type": "code",
   "execution_count": 27,
   "metadata": {},
   "outputs": [
    {
     "data": {
      "text/html": [
       "<div>\n",
       "<style scoped>\n",
       "    .dataframe tbody tr th:only-of-type {\n",
       "        vertical-align: middle;\n",
       "    }\n",
       "\n",
       "    .dataframe tbody tr th {\n",
       "        vertical-align: top;\n",
       "    }\n",
       "\n",
       "    .dataframe thead th {\n",
       "        text-align: right;\n",
       "    }\n",
       "</style>\n",
       "<table border=\"1\" class=\"dataframe\">\n",
       "  <thead>\n",
       "    <tr style=\"text-align: right;\">\n",
       "      <th></th>\n",
       "      <th>PassengerId</th>\n",
       "      <th>Survived</th>\n",
       "      <th>Pclass</th>\n",
       "      <th>Name</th>\n",
       "      <th>Sex</th>\n",
       "      <th>Age</th>\n",
       "      <th>SibSp</th>\n",
       "      <th>Parch</th>\n",
       "      <th>Ticket</th>\n",
       "      <th>Fare</th>\n",
       "      <th>Cabin</th>\n",
       "      <th>Embarked</th>\n",
       "      <th>Title</th>\n",
       "      <th>Family_size</th>\n",
       "      <th>Cabin_clean</th>\n",
       "    </tr>\n",
       "  </thead>\n",
       "  <tbody>\n",
       "    <tr>\n",
       "      <th>0</th>\n",
       "      <td>1</td>\n",
       "      <td>0</td>\n",
       "      <td>3</td>\n",
       "      <td>Braund, Mr. Owen Harris</td>\n",
       "      <td>male</td>\n",
       "      <td>22.0</td>\n",
       "      <td>1</td>\n",
       "      <td>0</td>\n",
       "      <td>A/5 21171</td>\n",
       "      <td>7.2500</td>\n",
       "      <td>NaN</td>\n",
       "      <td>S</td>\n",
       "      <td>Mr</td>\n",
       "      <td>Small</td>\n",
       "      <td>5.0</td>\n",
       "    </tr>\n",
       "    <tr>\n",
       "      <th>1</th>\n",
       "      <td>2</td>\n",
       "      <td>1</td>\n",
       "      <td>1</td>\n",
       "      <td>Cumings, Mrs. John Bradley (Florence Briggs Th...</td>\n",
       "      <td>female</td>\n",
       "      <td>38.0</td>\n",
       "      <td>1</td>\n",
       "      <td>0</td>\n",
       "      <td>PC 17599</td>\n",
       "      <td>71.2833</td>\n",
       "      <td>C85</td>\n",
       "      <td>C</td>\n",
       "      <td>Mrs</td>\n",
       "      <td>Small</td>\n",
       "      <td>2.0</td>\n",
       "    </tr>\n",
       "    <tr>\n",
       "      <th>2</th>\n",
       "      <td>3</td>\n",
       "      <td>1</td>\n",
       "      <td>3</td>\n",
       "      <td>Heikkinen, Miss. Laina</td>\n",
       "      <td>female</td>\n",
       "      <td>26.0</td>\n",
       "      <td>0</td>\n",
       "      <td>0</td>\n",
       "      <td>STON/O2. 3101282</td>\n",
       "      <td>7.9250</td>\n",
       "      <td>NaN</td>\n",
       "      <td>S</td>\n",
       "      <td>Miss</td>\n",
       "      <td>Solo</td>\n",
       "      <td>5.0</td>\n",
       "    </tr>\n",
       "    <tr>\n",
       "      <th>3</th>\n",
       "      <td>4</td>\n",
       "      <td>1</td>\n",
       "      <td>1</td>\n",
       "      <td>Futrelle, Mrs. Jacques Heath (Lily May Peel)</td>\n",
       "      <td>female</td>\n",
       "      <td>35.0</td>\n",
       "      <td>1</td>\n",
       "      <td>0</td>\n",
       "      <td>113803</td>\n",
       "      <td>53.1000</td>\n",
       "      <td>C123</td>\n",
       "      <td>S</td>\n",
       "      <td>Mrs</td>\n",
       "      <td>Small</td>\n",
       "      <td>2.0</td>\n",
       "    </tr>\n",
       "    <tr>\n",
       "      <th>4</th>\n",
       "      <td>5</td>\n",
       "      <td>0</td>\n",
       "      <td>3</td>\n",
       "      <td>Allen, Mr. William Henry</td>\n",
       "      <td>male</td>\n",
       "      <td>35.0</td>\n",
       "      <td>0</td>\n",
       "      <td>0</td>\n",
       "      <td>373450</td>\n",
       "      <td>8.0500</td>\n",
       "      <td>NaN</td>\n",
       "      <td>S</td>\n",
       "      <td>Mr</td>\n",
       "      <td>Solo</td>\n",
       "      <td>5.0</td>\n",
       "    </tr>\n",
       "  </tbody>\n",
       "</table>\n",
       "</div>"
      ],
      "text/plain": [
       "   PassengerId  Survived  Pclass  \\\n",
       "0            1         0       3   \n",
       "1            2         1       1   \n",
       "2            3         1       3   \n",
       "3            4         1       1   \n",
       "4            5         0       3   \n",
       "\n",
       "                                                Name     Sex   Age  SibSp  \\\n",
       "0                            Braund, Mr. Owen Harris    male  22.0      1   \n",
       "1  Cumings, Mrs. John Bradley (Florence Briggs Th...  female  38.0      1   \n",
       "2                             Heikkinen, Miss. Laina  female  26.0      0   \n",
       "3       Futrelle, Mrs. Jacques Heath (Lily May Peel)  female  35.0      1   \n",
       "4                           Allen, Mr. William Henry    male  35.0      0   \n",
       "\n",
       "   Parch            Ticket     Fare Cabin Embarked Title Family_size  \\\n",
       "0      0         A/5 21171   7.2500   NaN        S    Mr       Small   \n",
       "1      0          PC 17599  71.2833   C85        C   Mrs       Small   \n",
       "2      0  STON/O2. 3101282   7.9250   NaN        S  Miss        Solo   \n",
       "3      0            113803  53.1000  C123        S   Mrs       Small   \n",
       "4      0            373450   8.0500   NaN        S    Mr        Solo   \n",
       "\n",
       "   Cabin_clean  \n",
       "0          5.0  \n",
       "1          2.0  \n",
       "2          5.0  \n",
       "3          2.0  \n",
       "4          5.0  "
      ]
     },
     "execution_count": 27,
     "metadata": {},
     "output_type": "execute_result"
    }
   ],
   "source": [
    "train_df.head()"
   ]
  },
  {
   "cell_type": "markdown",
   "metadata": {},
   "source": [
    "# 4. 데이터세트 나누기 및 모델 학습"
   ]
  },
  {
   "cell_type": "code",
   "execution_count": 28,
   "metadata": {},
   "outputs": [
    {
     "data": {
      "text/html": [
       "<div>\n",
       "<style scoped>\n",
       "    .dataframe tbody tr th:only-of-type {\n",
       "        vertical-align: middle;\n",
       "    }\n",
       "\n",
       "    .dataframe tbody tr th {\n",
       "        vertical-align: top;\n",
       "    }\n",
       "\n",
       "    .dataframe thead th {\n",
       "        text-align: right;\n",
       "    }\n",
       "</style>\n",
       "<table border=\"1\" class=\"dataframe\">\n",
       "  <thead>\n",
       "    <tr style=\"text-align: right;\">\n",
       "      <th></th>\n",
       "      <th>Pclass</th>\n",
       "      <th>Fare</th>\n",
       "      <th>Title</th>\n",
       "      <th>Embarked</th>\n",
       "      <th>Family_size</th>\n",
       "      <th>Cabin_clean</th>\n",
       "    </tr>\n",
       "  </thead>\n",
       "  <tbody>\n",
       "    <tr>\n",
       "      <th>0</th>\n",
       "      <td>3</td>\n",
       "      <td>7.2500</td>\n",
       "      <td>Mr</td>\n",
       "      <td>S</td>\n",
       "      <td>Small</td>\n",
       "      <td>5.0</td>\n",
       "    </tr>\n",
       "    <tr>\n",
       "      <th>1</th>\n",
       "      <td>1</td>\n",
       "      <td>71.2833</td>\n",
       "      <td>Mrs</td>\n",
       "      <td>C</td>\n",
       "      <td>Small</td>\n",
       "      <td>2.0</td>\n",
       "    </tr>\n",
       "    <tr>\n",
       "      <th>2</th>\n",
       "      <td>3</td>\n",
       "      <td>7.9250</td>\n",
       "      <td>Miss</td>\n",
       "      <td>S</td>\n",
       "      <td>Solo</td>\n",
       "      <td>5.0</td>\n",
       "    </tr>\n",
       "    <tr>\n",
       "      <th>3</th>\n",
       "      <td>1</td>\n",
       "      <td>53.1000</td>\n",
       "      <td>Mrs</td>\n",
       "      <td>S</td>\n",
       "      <td>Small</td>\n",
       "      <td>2.0</td>\n",
       "    </tr>\n",
       "    <tr>\n",
       "      <th>4</th>\n",
       "      <td>3</td>\n",
       "      <td>8.0500</td>\n",
       "      <td>Mr</td>\n",
       "      <td>S</td>\n",
       "      <td>Solo</td>\n",
       "      <td>5.0</td>\n",
       "    </tr>\n",
       "  </tbody>\n",
       "</table>\n",
       "</div>"
      ],
      "text/plain": [
       "   Pclass     Fare Title Embarked Family_size  Cabin_clean\n",
       "0       3   7.2500    Mr        S       Small          5.0\n",
       "1       1  71.2833   Mrs        C       Small          2.0\n",
       "2       3   7.9250  Miss        S        Solo          5.0\n",
       "3       1  53.1000   Mrs        S       Small          2.0\n",
       "4       3   8.0500    Mr        S        Solo          5.0"
      ]
     },
     "execution_count": 28,
     "metadata": {},
     "output_type": "execute_result"
    }
   ],
   "source": [
    "# x는 특성값, y는 타겟값이다. \n",
    "# 특성에는 passengerId, Age값 외에는 전부 사용하였다. Age를 사용하지 않은 가장 큰 이유는 서브미션 스코어값 때문이다.\n",
    "# 여러 컬럼을 빼보고 전처리도 바꾸는 작업을 하다가, Age컬럼을 빼고 Name컬럼의 호칭을 따로 분리하여 전처리를 했을때\n",
    "# 스코어값이 더 높게 나오는것을 확인하였다.\n",
    "# Name앞에 호칭만 따로 Title컬럼에 넣는 과정이 있었는데, 서양같은 경우엔 어린아이에게 쓰는 호칭,\n",
    "# 어른에게 쓰는 호칭 등이 정해져 있는것으로 알고 있고 실제 Name컬럼에는 모든 값들에 호칭이 정해져 있었기 때문에\n",
    "# 이 호칭을 Age컬럼대신 사용하기로 하였다.\n",
    "\n",
    "y = train_df['Survived']\n",
    "features = ['Pclass', 'Fare', 'Title', 'Embarked', 'Family_size', \"Cabin_clean\"]\n",
    "X = train_df[features]\n",
    "X.head()"
   ]
  },
  {
   "cell_type": "code",
   "execution_count": 29,
   "metadata": {},
   "outputs": [],
   "source": [
    "numerical_cols = ['Fare']\n",
    "categorical_cols = ['Pclass', 'Title', 'Embarked', 'Family_size', 'Cabin_clean']"
   ]
  },
  {
   "cell_type": "code",
   "execution_count": 30,
   "metadata": {},
   "outputs": [],
   "source": [
    "numerical_transformer = SimpleImputer(strategy='median')\n",
    "\n",
    "# 범주형 데이터에 대해 가장 빈번한값을 결측값대신 입력\n",
    "categorical_transformer = Pipeline(steps=[\n",
    "    ('imputer', SimpleImputer(strategy='most_frequent')),\n",
    "    ('onehot', OneHotEncoder(handle_unknown='ignore'))\n",
    "])"
   ]
  },
  {
   "cell_type": "code",
   "execution_count": 31,
   "metadata": {},
   "outputs": [],
   "source": [
    "# 숫자 및 범주형 데이터에 대한 전처리\n",
    "preprocessor = ColumnTransformer(\n",
    "    transformers=[\n",
    "        ('num', numerical_transformer, numerical_cols),\n",
    "        ('cat', categorical_transformer, categorical_cols)\n",
    "    ])\n"
   ]
  },
  {
   "cell_type": "markdown",
   "metadata": {},
   "source": [
    "SimpleImputer(strategy = 'median')은 Null값들을 모두 중앙값으로 바꿔주는 메서드이다.\n",
    "그것을 numerical_transformer변수에 지정을 하였다.\n",
    "\n",
    "Pipeline은 여러 처리 단계를 하나의 scikit-learn 추정기 형태로 묶어주는 파이썬 클래스이다. Pipeline은 fit, predict, score 메소드를 제공한다.\n",
    "\n",
    "Pipeline을 사용하는 가장 일반적인 경우는 분류기 같은 지도 학습 모델과 전처리 단계를 연결할 때이다.\n",
    "\n",
    "0으로 이루어진 벡터에 단 한개의 1의 값으로 해당 데이터의 값을 구별하는 것이 원핫 인코딩이다.\n",
    "\n",
    "ColumnTransformer를 사용하여 범주 및 숫자 데이터 열에 다른 변환을 적용하는 방법."
   ]
  },
  {
   "cell_type": "markdown",
   "metadata": {},
   "source": [
    "### 랜덤 포레스트"
   ]
  },
  {
   "cell_type": "code",
   "execution_count": 74,
   "metadata": {},
   "outputs": [],
   "source": [
    "# 그리드서치를 이용해서 최적의 하이퍼파라미터 결정\n",
    "from sklearn.ensemble import RandomForestClassifier\n",
    "from sklearn.model_selection import GridSearchCV\n",
    "\n",
    "rf = RandomForestClassifier()\n",
    "\n",
    "rf_param_grid = {'n_estimators' : [50,100,200,300], 'max_depth' : [3,4,5,6,7],\n",
    "                 'max_leaf_nodes' : [1,2,3,4,5],\n",
    "                'min_samples_split':range(2,100,10)}\n",
    "\n",
    "rf_grid = GridSearchCV(rf, param_grid = rf_param_grid,n_jobs=-1, verbose=1)"
   ]
  },
  {
   "cell_type": "code",
   "execution_count": 75,
   "metadata": {},
   "outputs": [],
   "source": [
    "# 파이프라인메서드를 이용하여, 모델에 전처리 바로 적용\n",
    "titanic_pipeline = Pipeline(steps=[\n",
    "    ('preprocessor', preprocessor),\n",
    "    ('model', rf_grid)\n",
    "])\n"
   ]
  },
  {
   "cell_type": "code",
   "execution_count": 44,
   "metadata": {},
   "outputs": [],
   "source": [
    "import warnings\n",
    "warnings.filterwarnings('ignore')"
   ]
  },
  {
   "cell_type": "code",
   "execution_count": 78,
   "metadata": {},
   "outputs": [
    {
     "name": "stdout",
     "output_type": "stream",
     "text": [
      "Fitting 5 folds for each of 1000 candidates, totalling 5000 fits\n"
     ]
    },
    {
     "name": "stderr",
     "output_type": "stream",
     "text": [
      "[Parallel(n_jobs=-1)]: Using backend LokyBackend with 8 concurrent workers.\n",
      "[Parallel(n_jobs=-1)]: Done  34 tasks      | elapsed:    5.6s\n",
      "[Parallel(n_jobs=-1)]: Done 184 tasks      | elapsed:    8.8s\n",
      "[Parallel(n_jobs=-1)]: Done 434 tasks      | elapsed:   25.6s\n",
      "[Parallel(n_jobs=-1)]: Done 784 tasks      | elapsed:   53.3s\n",
      "[Parallel(n_jobs=-1)]: Done 1234 tasks      | elapsed:  1.3min\n",
      "[Parallel(n_jobs=-1)]: Done 1784 tasks      | elapsed:  2.0min\n",
      "[Parallel(n_jobs=-1)]: Done 2434 tasks      | elapsed:  2.7min\n",
      "[Parallel(n_jobs=-1)]: Done 3184 tasks      | elapsed:  3.5min\n",
      "[Parallel(n_jobs=-1)]: Done 4034 tasks      | elapsed:  4.7min\n",
      "[Parallel(n_jobs=-1)]: Done 4984 tasks      | elapsed:  5.8min\n",
      "[Parallel(n_jobs=-1)]: Done 5000 out of 5000 | elapsed:  5.9min finished\n"
     ]
    },
    {
     "data": {
      "text/plain": [
       "Pipeline(steps=[('preprocessor',\n",
       "                 ColumnTransformer(transformers=[('num',\n",
       "                                                  SimpleImputer(strategy='median'),\n",
       "                                                  ['Fare']),\n",
       "                                                 ('cat',\n",
       "                                                  Pipeline(steps=[('imputer',\n",
       "                                                                   SimpleImputer(strategy='most_frequent')),\n",
       "                                                                  ('onehot',\n",
       "                                                                   OneHotEncoder(handle_unknown='ignore'))]),\n",
       "                                                  ['Pclass', 'Title',\n",
       "                                                   'Embarked', 'Family_size',\n",
       "                                                   'Cabin_clean'])])),\n",
       "                ('model',\n",
       "                 GridSearchCV(estimator=RandomForestClassifier(), n_jobs=-1,\n",
       "                              param_grid={'max_depth': [3, 4, 5, 6, 7],\n",
       "                                          'max_leaf_nodes': [1, 2, 3, 4, 5],\n",
       "                                          'min_samples_split': range(2, 100, 10),\n",
       "                                          'n_estimators': [50, 100, 200, 300]},\n",
       "                              verbose=1))])"
      ]
     },
     "execution_count": 78,
     "metadata": {},
     "output_type": "execute_result"
    }
   ],
   "source": [
    "# 이부분이 조금 오래걸리지만 finished가 끝날때까지 기다린다.\n",
    "titanic_pipeline.fit(X,y)"
   ]
  },
  {
   "cell_type": "code",
   "execution_count": 79,
   "metadata": {},
   "outputs": [
    {
     "data": {
      "text/html": [
       "<div>\n",
       "<style scoped>\n",
       "    .dataframe tbody tr th:only-of-type {\n",
       "        vertical-align: middle;\n",
       "    }\n",
       "\n",
       "    .dataframe tbody tr th {\n",
       "        vertical-align: top;\n",
       "    }\n",
       "\n",
       "    .dataframe thead th {\n",
       "        text-align: right;\n",
       "    }\n",
       "</style>\n",
       "<table border=\"1\" class=\"dataframe\">\n",
       "  <thead>\n",
       "    <tr style=\"text-align: right;\">\n",
       "      <th></th>\n",
       "      <th>Pclass</th>\n",
       "      <th>Fare</th>\n",
       "      <th>Title</th>\n",
       "      <th>Embarked</th>\n",
       "      <th>Family_size</th>\n",
       "      <th>Cabin_clean</th>\n",
       "    </tr>\n",
       "  </thead>\n",
       "  <tbody>\n",
       "    <tr>\n",
       "      <th>0</th>\n",
       "      <td>3</td>\n",
       "      <td>7.8292</td>\n",
       "      <td>Mr</td>\n",
       "      <td>Q</td>\n",
       "      <td>Solo</td>\n",
       "      <td>5.0</td>\n",
       "    </tr>\n",
       "    <tr>\n",
       "      <th>1</th>\n",
       "      <td>3</td>\n",
       "      <td>7.0000</td>\n",
       "      <td>Mrs</td>\n",
       "      <td>S</td>\n",
       "      <td>Small</td>\n",
       "      <td>5.0</td>\n",
       "    </tr>\n",
       "    <tr>\n",
       "      <th>2</th>\n",
       "      <td>2</td>\n",
       "      <td>9.6875</td>\n",
       "      <td>Mr</td>\n",
       "      <td>Q</td>\n",
       "      <td>Solo</td>\n",
       "      <td>5.0</td>\n",
       "    </tr>\n",
       "    <tr>\n",
       "      <th>3</th>\n",
       "      <td>3</td>\n",
       "      <td>8.6625</td>\n",
       "      <td>Mr</td>\n",
       "      <td>S</td>\n",
       "      <td>Solo</td>\n",
       "      <td>5.0</td>\n",
       "    </tr>\n",
       "    <tr>\n",
       "      <th>4</th>\n",
       "      <td>3</td>\n",
       "      <td>12.2875</td>\n",
       "      <td>Mrs</td>\n",
       "      <td>S</td>\n",
       "      <td>Small</td>\n",
       "      <td>5.0</td>\n",
       "    </tr>\n",
       "  </tbody>\n",
       "</table>\n",
       "</div>"
      ],
      "text/plain": [
       "   Pclass     Fare Title Embarked Family_size  Cabin_clean\n",
       "0       3   7.8292    Mr        Q        Solo          5.0\n",
       "1       3   7.0000   Mrs        S       Small          5.0\n",
       "2       2   9.6875    Mr        Q        Solo          5.0\n",
       "3       3   8.6625    Mr        S        Solo          5.0\n",
       "4       3  12.2875   Mrs        S       Small          5.0"
      ]
     },
     "execution_count": 79,
     "metadata": {},
     "output_type": "execute_result"
    }
   ],
   "source": [
    "# 예측 타깃값 지정\n",
    "\n",
    "X_test = test_df[features]\n",
    "X_test.head()"
   ]
  },
  {
   "cell_type": "code",
   "execution_count": 80,
   "metadata": {},
   "outputs": [],
   "source": [
    "# 예측\n",
    "\n",
    "predictions = titanic_pipeline.predict(X_test)"
   ]
  },
  {
   "cell_type": "code",
   "execution_count": 85,
   "metadata": {},
   "outputs": [],
   "source": [
    "# csv파일로 저장\n",
    "\n",
    "output = pd.DataFrame({'PassengerId': test_df.PassengerId, 'Survived': predictions})\n",
    "output.to_csv('submission-6-1(Grid-RF).csv', index=False)"
   ]
  },
  {
   "cell_type": "code",
   "execution_count": 81,
   "metadata": {},
   "outputs": [
    {
     "name": "stdout",
     "output_type": "stream",
     "text": [
      "{'max_depth': 7, 'max_leaf_nodes': 5, 'min_samples_split': 62, 'n_estimators': 50}\n"
     ]
    }
   ],
   "source": [
    "# 베스트 하이퍼파라미터 출력 - 최상의 매개변수 조합 확인\n",
    "# 실행시 마다 결과값이 달라짐.\n",
    "\n",
    "print(rf_grid.best_params_)"
   ]
  },
  {
   "cell_type": "code",
   "execution_count": 84,
   "metadata": {},
   "outputs": [
    {
     "name": "stdout",
     "output_type": "stream",
     "text": [
      "훈련세트에 대한 점수:  0.8114478114478114\n",
      "검증세트에 대한 점수:  0.8081350825434687\n"
     ]
    }
   ],
   "source": [
    "# 훈련세트에 대한 점수 및 검증세트에 대한 점수\n",
    "print(\"훈련세트에 대한 점수: \",titanic_pipeline.score(X, y))\n",
    "print(\"검증세트에 대한 점수: \", rf_grid.best_score_)"
   ]
  },
  {
   "cell_type": "markdown",
   "metadata": {},
   "source": [
    "#### 랜덤포레스트 최상의 하이퍼파라미터로 학습진행하기"
   ]
  },
  {
   "cell_type": "code",
   "execution_count": 92,
   "metadata": {},
   "outputs": [],
   "source": [
    "# 최상의 매개변수로 다시 실행하기\n",
    "rf = RandomForestClassifier(n_estimators = 200, max_depth=5,\n",
    "                           max_leaf_nodes = 5, min_samples_split = 72, n_jobs = -1, verbose = 1)\n",
    "\n",
    "# verbose\n",
    "# 표시되는 정보의 양을 결정합니다.\n",
    "# 값 1을 사용하면 각 실행의 시간이 표시됩니다. \n",
    "# 2는 점수도 표시됨을 나타냅니다.\n",
    "# 3은 접기 및 후보 매개변수도 표시됨을 나타냅니다"
   ]
  },
  {
   "cell_type": "code",
   "execution_count": 93,
   "metadata": {},
   "outputs": [],
   "source": [
    "# 파이프라인메서드를 이용하여, 모델에 전처리 바로 적용\n",
    "titanic_pipeline = Pipeline(steps=[\n",
    "    ('preprocessor', preprocessor),\n",
    "    ('model', rf)\n",
    "])\n"
   ]
  },
  {
   "cell_type": "code",
   "execution_count": 94,
   "metadata": {},
   "outputs": [
    {
     "name": "stderr",
     "output_type": "stream",
     "text": [
      "[Parallel(n_jobs=-1)]: Using backend ThreadingBackend with 8 concurrent workers.\n",
      "[Parallel(n_jobs=-1)]: Done  34 tasks      | elapsed:    0.0s\n",
      "[Parallel(n_jobs=-1)]: Done  50 out of  50 | elapsed:    0.0s finished\n"
     ]
    },
    {
     "data": {
      "text/plain": [
       "Pipeline(steps=[('preprocessor',\n",
       "                 ColumnTransformer(transformers=[('num',\n",
       "                                                  SimpleImputer(strategy='median'),\n",
       "                                                  ['Fare']),\n",
       "                                                 ('cat',\n",
       "                                                  Pipeline(steps=[('imputer',\n",
       "                                                                   SimpleImputer(strategy='most_frequent')),\n",
       "                                                                  ('onehot',\n",
       "                                                                   OneHotEncoder(handle_unknown='ignore'))]),\n",
       "                                                  ['Pclass', 'Title',\n",
       "                                                   'Embarked', 'Family_size',\n",
       "                                                   'Cabin_clean'])])),\n",
       "                ('model',\n",
       "                 RandomForestClassifier(max_depth=7, max_leaf_nodes=5,\n",
       "                                        min_samples_split=62, n_estimators=50,\n",
       "                                        n_jobs=-1, verbose=1))])"
      ]
     },
     "execution_count": 94,
     "metadata": {},
     "output_type": "execute_result"
    }
   ],
   "source": [
    "titanic_pipeline.fit(X,y)"
   ]
  },
  {
   "cell_type": "code",
   "execution_count": 95,
   "metadata": {},
   "outputs": [
    {
     "data": {
      "text/html": [
       "<div>\n",
       "<style scoped>\n",
       "    .dataframe tbody tr th:only-of-type {\n",
       "        vertical-align: middle;\n",
       "    }\n",
       "\n",
       "    .dataframe tbody tr th {\n",
       "        vertical-align: top;\n",
       "    }\n",
       "\n",
       "    .dataframe thead th {\n",
       "        text-align: right;\n",
       "    }\n",
       "</style>\n",
       "<table border=\"1\" class=\"dataframe\">\n",
       "  <thead>\n",
       "    <tr style=\"text-align: right;\">\n",
       "      <th></th>\n",
       "      <th>Pclass</th>\n",
       "      <th>Fare</th>\n",
       "      <th>Title</th>\n",
       "      <th>Embarked</th>\n",
       "      <th>Family_size</th>\n",
       "      <th>Cabin_clean</th>\n",
       "    </tr>\n",
       "  </thead>\n",
       "  <tbody>\n",
       "    <tr>\n",
       "      <th>0</th>\n",
       "      <td>3</td>\n",
       "      <td>7.8292</td>\n",
       "      <td>Mr</td>\n",
       "      <td>Q</td>\n",
       "      <td>Solo</td>\n",
       "      <td>5.0</td>\n",
       "    </tr>\n",
       "    <tr>\n",
       "      <th>1</th>\n",
       "      <td>3</td>\n",
       "      <td>7.0000</td>\n",
       "      <td>Mrs</td>\n",
       "      <td>S</td>\n",
       "      <td>Small</td>\n",
       "      <td>5.0</td>\n",
       "    </tr>\n",
       "    <tr>\n",
       "      <th>2</th>\n",
       "      <td>2</td>\n",
       "      <td>9.6875</td>\n",
       "      <td>Mr</td>\n",
       "      <td>Q</td>\n",
       "      <td>Solo</td>\n",
       "      <td>5.0</td>\n",
       "    </tr>\n",
       "    <tr>\n",
       "      <th>3</th>\n",
       "      <td>3</td>\n",
       "      <td>8.6625</td>\n",
       "      <td>Mr</td>\n",
       "      <td>S</td>\n",
       "      <td>Solo</td>\n",
       "      <td>5.0</td>\n",
       "    </tr>\n",
       "    <tr>\n",
       "      <th>4</th>\n",
       "      <td>3</td>\n",
       "      <td>12.2875</td>\n",
       "      <td>Mrs</td>\n",
       "      <td>S</td>\n",
       "      <td>Small</td>\n",
       "      <td>5.0</td>\n",
       "    </tr>\n",
       "  </tbody>\n",
       "</table>\n",
       "</div>"
      ],
      "text/plain": [
       "   Pclass     Fare Title Embarked Family_size  Cabin_clean\n",
       "0       3   7.8292    Mr        Q        Solo          5.0\n",
       "1       3   7.0000   Mrs        S       Small          5.0\n",
       "2       2   9.6875    Mr        Q        Solo          5.0\n",
       "3       3   8.6625    Mr        S        Solo          5.0\n",
       "4       3  12.2875   Mrs        S       Small          5.0"
      ]
     },
     "execution_count": 95,
     "metadata": {},
     "output_type": "execute_result"
    }
   ],
   "source": [
    "X_test = test_df[features]\n",
    "X_test.head()"
   ]
  },
  {
   "cell_type": "code",
   "execution_count": 96,
   "metadata": {},
   "outputs": [
    {
     "name": "stderr",
     "output_type": "stream",
     "text": [
      "[Parallel(n_jobs=8)]: Using backend ThreadingBackend with 8 concurrent workers.\n",
      "[Parallel(n_jobs=8)]: Done  34 tasks      | elapsed:    0.0s\n",
      "[Parallel(n_jobs=8)]: Done  50 out of  50 | elapsed:    0.0s finished\n"
     ]
    }
   ],
   "source": [
    "predictions = titanic_pipeline.predict(X_test)"
   ]
  },
  {
   "cell_type": "code",
   "execution_count": 97,
   "metadata": {},
   "outputs": [],
   "source": [
    "output = pd.DataFrame({'PassengerId': test_df.PassengerId, 'Survived': predictions})\n",
    "output.to_csv('submission-6-1.csv', index=False)"
   ]
  },
  {
   "cell_type": "markdown",
   "metadata": {},
   "source": [
    "### 결정트리"
   ]
  },
  {
   "cell_type": "code",
   "execution_count": 113,
   "metadata": {},
   "outputs": [],
   "source": [
    "# 그리드서치를 이용해서 최적의 하이퍼파라미터 결정\n",
    "from sklearn.tree import DecisionTreeClassifier\n",
    "\n",
    "dt = DecisionTreeClassifier()\n",
    "\n",
    "dt_param_grid = {'min_impurity_decrease':np.arange(0.0001, 0.001, 0.0001),\n",
    "                'max_depth':range(2, 20, 1),\n",
    "                'min_samples_split':range(2, 100, 10)}\n",
    "\n",
    "dt_grid = GridSearchCV(dt, param_grid = dt_param_grid, n_jobs=-1, verbose=1)"
   ]
  },
  {
   "cell_type": "code",
   "execution_count": 114,
   "metadata": {},
   "outputs": [],
   "source": [
    "# 파이프라인메서드를 이용하여, 모델에 전처리 바로 적용 \n",
    "titanic_pipeline = Pipeline(steps=[\n",
    "    ('preprocessor', preprocessor),\n",
    "    ('model', dt_grid)\n",
    "])"
   ]
  },
  {
   "cell_type": "code",
   "execution_count": 115,
   "metadata": {},
   "outputs": [
    {
     "name": "stdout",
     "output_type": "stream",
     "text": [
      "Fitting 5 folds for each of 1620 candidates, totalling 8100 fits\n"
     ]
    },
    {
     "name": "stderr",
     "output_type": "stream",
     "text": [
      "[Parallel(n_jobs=-1)]: Using backend LokyBackend with 8 concurrent workers.\n",
      "[Parallel(n_jobs=-1)]: Done  34 tasks      | elapsed:    4.8s\n",
      "[Parallel(n_jobs=-1)]: Done 4624 tasks      | elapsed:    8.3s\n",
      "[Parallel(n_jobs=-1)]: Done 8100 out of 8100 | elapsed:   10.4s finished\n"
     ]
    },
    {
     "data": {
      "text/plain": [
       "Pipeline(steps=[('preprocessor',\n",
       "                 ColumnTransformer(transformers=[('num',\n",
       "                                                  SimpleImputer(strategy='median'),\n",
       "                                                  ['Fare']),\n",
       "                                                 ('cat',\n",
       "                                                  Pipeline(steps=[('imputer',\n",
       "                                                                   SimpleImputer(strategy='most_frequent')),\n",
       "                                                                  ('onehot',\n",
       "                                                                   OneHotEncoder(handle_unknown='ignore'))]),\n",
       "                                                  ['Pclass', 'Title',\n",
       "                                                   'Embarked', 'Family_size',\n",
       "                                                   'Cabin_clean'])])),\n",
       "                ('model',\n",
       "                 GridSearchCV(estimator=DecisionTreeClassifier(), n_jobs=-1,\n",
       "                              param_grid={'max_depth': range(2, 20),\n",
       "                                          'min_impurity_decrease': array([0.0001, 0.0002, 0.0003, 0.0004, 0.0005, 0.0006, 0.0007, 0.0008,\n",
       "       0.0009]),\n",
       "                                          'min_samples_split': range(2, 100, 10)},\n",
       "                              verbose=1))])"
      ]
     },
     "execution_count": 115,
     "metadata": {},
     "output_type": "execute_result"
    }
   ],
   "source": [
    "# 이부분이 조금 오래걸리지만 finished가 끝날때까지 기다린다.\n",
    "titanic_pipeline.fit(X,y)"
   ]
  },
  {
   "cell_type": "code",
   "execution_count": 116,
   "metadata": {},
   "outputs": [
    {
     "name": "stdout",
     "output_type": "stream",
     "text": [
      "{'max_depth': 15, 'min_impurity_decrease': 0.0005, 'min_samples_split': 2}\n"
     ]
    }
   ],
   "source": [
    "# 베스트 하이퍼파라미터 출력 - 최상의 매개변수 조합 확인\n",
    "# 실행시마다 바뀐다..\n",
    "\n",
    "print(dt_grid.best_params_)"
   ]
  },
  {
   "cell_type": "code",
   "execution_count": 117,
   "metadata": {},
   "outputs": [
    {
     "name": "stdout",
     "output_type": "stream",
     "text": [
      "훈련세트에 대한 점수:  0.9001122334455668\n",
      "검증세트에 대한 점수:  0.8384282217061075\n"
     ]
    }
   ],
   "source": [
    "# 훈련세트에 대한 점수 및 검증세트에 대한 점수\n",
    "print(\"훈련세트에 대한 점수: \",titanic_pipeline.score(X, y))\n",
    "print(\"검증세트에 대한 점수: \", dt_grid.best_score_)"
   ]
  },
  {
   "cell_type": "code",
   "execution_count": 101,
   "metadata": {},
   "outputs": [
    {
     "data": {
      "text/html": [
       "<div>\n",
       "<style scoped>\n",
       "    .dataframe tbody tr th:only-of-type {\n",
       "        vertical-align: middle;\n",
       "    }\n",
       "\n",
       "    .dataframe tbody tr th {\n",
       "        vertical-align: top;\n",
       "    }\n",
       "\n",
       "    .dataframe thead th {\n",
       "        text-align: right;\n",
       "    }\n",
       "</style>\n",
       "<table border=\"1\" class=\"dataframe\">\n",
       "  <thead>\n",
       "    <tr style=\"text-align: right;\">\n",
       "      <th></th>\n",
       "      <th>Pclass</th>\n",
       "      <th>Fare</th>\n",
       "      <th>Title</th>\n",
       "      <th>Embarked</th>\n",
       "      <th>Family_size</th>\n",
       "      <th>Cabin_clean</th>\n",
       "    </tr>\n",
       "  </thead>\n",
       "  <tbody>\n",
       "    <tr>\n",
       "      <th>0</th>\n",
       "      <td>3</td>\n",
       "      <td>7.8292</td>\n",
       "      <td>Mr</td>\n",
       "      <td>Q</td>\n",
       "      <td>Solo</td>\n",
       "      <td>5.0</td>\n",
       "    </tr>\n",
       "    <tr>\n",
       "      <th>1</th>\n",
       "      <td>3</td>\n",
       "      <td>7.0000</td>\n",
       "      <td>Mrs</td>\n",
       "      <td>S</td>\n",
       "      <td>Small</td>\n",
       "      <td>5.0</td>\n",
       "    </tr>\n",
       "    <tr>\n",
       "      <th>2</th>\n",
       "      <td>2</td>\n",
       "      <td>9.6875</td>\n",
       "      <td>Mr</td>\n",
       "      <td>Q</td>\n",
       "      <td>Solo</td>\n",
       "      <td>5.0</td>\n",
       "    </tr>\n",
       "    <tr>\n",
       "      <th>3</th>\n",
       "      <td>3</td>\n",
       "      <td>8.6625</td>\n",
       "      <td>Mr</td>\n",
       "      <td>S</td>\n",
       "      <td>Solo</td>\n",
       "      <td>5.0</td>\n",
       "    </tr>\n",
       "    <tr>\n",
       "      <th>4</th>\n",
       "      <td>3</td>\n",
       "      <td>12.2875</td>\n",
       "      <td>Mrs</td>\n",
       "      <td>S</td>\n",
       "      <td>Small</td>\n",
       "      <td>5.0</td>\n",
       "    </tr>\n",
       "  </tbody>\n",
       "</table>\n",
       "</div>"
      ],
      "text/plain": [
       "   Pclass     Fare Title Embarked Family_size  Cabin_clean\n",
       "0       3   7.8292    Mr        Q        Solo          5.0\n",
       "1       3   7.0000   Mrs        S       Small          5.0\n",
       "2       2   9.6875    Mr        Q        Solo          5.0\n",
       "3       3   8.6625    Mr        S        Solo          5.0\n",
       "4       3  12.2875   Mrs        S       Small          5.0"
      ]
     },
     "execution_count": 101,
     "metadata": {},
     "output_type": "execute_result"
    }
   ],
   "source": [
    "X_test = test_df[features]\n",
    "X_test.head()"
   ]
  },
  {
   "cell_type": "code",
   "execution_count": null,
   "metadata": {
    "execution": {
     "iopub.execute_input": "2022-06-03T13:43:37.749444Z",
     "iopub.status.busy": "2022-06-03T13:43:37.749003Z",
     "iopub.status.idle": "2022-06-03T13:43:37.764427Z",
     "shell.execute_reply": "2022-06-03T13:43:37.763232Z",
     "shell.execute_reply.started": "2022-06-03T13:43:37.749409Z"
    }
   },
   "outputs": [],
   "source": [
    "predictions = titanic_pipeline.predict(X_test)"
   ]
  },
  {
   "cell_type": "code",
   "execution_count": null,
   "metadata": {
    "execution": {
     "iopub.execute_input": "2022-06-03T13:43:48.275291Z",
     "iopub.status.busy": "2022-06-03T13:43:48.274136Z",
     "iopub.status.idle": "2022-06-03T13:43:48.285163Z",
     "shell.execute_reply": "2022-06-03T13:43:48.284085Z",
     "shell.execute_reply.started": "2022-06-03T13:43:48.27521Z"
    }
   },
   "outputs": [],
   "source": [
    "output = pd.DataFrame({'PassengerId': test_df.PassengerId, 'Survived': predictions})\n",
    "output.to_csv('my_submission(dt).csv', index=False)"
   ]
  },
  {
   "cell_type": "markdown",
   "metadata": {},
   "source": [
    "### KNN"
   ]
  },
  {
   "cell_type": "code",
   "execution_count": 107,
   "metadata": {},
   "outputs": [],
   "source": [
    "from sklearn.neighbors import KNeighborsClassifier\n",
    "\n",
    "knn = KNeighborsClassifier()\n",
    "\n",
    "knn_param_grid = {'n_neighbors':[1, 3, 5, 7, 9, 11]}\n",
    "\n",
    "knn_grid = GridSearchCV(knn, param_grid = knn_param_grid, n_jobs=-1, verbose=1)"
   ]
  },
  {
   "cell_type": "code",
   "execution_count": 108,
   "metadata": {},
   "outputs": [],
   "source": [
    "# 파이프라인메서드를 이용하여, 모델에 전처리 바로 적용\n",
    "titanic_pipeline = Pipeline(steps=[\n",
    "    ('preprocessor', preprocessor),\n",
    "    ('model', knn_grid)\n",
    "])"
   ]
  },
  {
   "cell_type": "code",
   "execution_count": 109,
   "metadata": {},
   "outputs": [
    {
     "name": "stdout",
     "output_type": "stream",
     "text": [
      "Fitting 5 folds for each of 6 candidates, totalling 30 fits\n"
     ]
    },
    {
     "name": "stderr",
     "output_type": "stream",
     "text": [
      "[Parallel(n_jobs=-1)]: Using backend LokyBackend with 8 concurrent workers.\n",
      "[Parallel(n_jobs=-1)]: Done  30 out of  30 | elapsed:    3.9s finished\n"
     ]
    },
    {
     "data": {
      "text/plain": [
       "Pipeline(steps=[('preprocessor',\n",
       "                 ColumnTransformer(transformers=[('num',\n",
       "                                                  SimpleImputer(strategy='median'),\n",
       "                                                  ['Fare']),\n",
       "                                                 ('cat',\n",
       "                                                  Pipeline(steps=[('imputer',\n",
       "                                                                   SimpleImputer(strategy='most_frequent')),\n",
       "                                                                  ('onehot',\n",
       "                                                                   OneHotEncoder(handle_unknown='ignore'))]),\n",
       "                                                  ['Pclass', 'Title',\n",
       "                                                   'Embarked', 'Family_size',\n",
       "                                                   'Cabin_clean'])])),\n",
       "                ('model',\n",
       "                 GridSearchCV(estimator=KNeighborsClassifier(), n_jobs=-1,\n",
       "                              param_grid={'n_neighbors': [1, 3, 5, 7, 9, 11]},\n",
       "                              verbose=1))])"
      ]
     },
     "execution_count": 109,
     "metadata": {},
     "output_type": "execute_result"
    }
   ],
   "source": [
    "# 이부분이 조금 오래걸리지만 finished가 끝날때까지 기다린다.\n",
    "titanic_pipeline.fit(X,y)"
   ]
  },
  {
   "cell_type": "code",
   "execution_count": 111,
   "metadata": {},
   "outputs": [
    {
     "name": "stdout",
     "output_type": "stream",
     "text": [
      "{'n_neighbors': 5}\n"
     ]
    }
   ],
   "source": [
    "# 베스트 하이퍼파라미터 출력 - 최상의 매개변수 조합 확인\n",
    "print(knn_grid.best_params_)"
   ]
  },
  {
   "cell_type": "code",
   "execution_count": 112,
   "metadata": {},
   "outputs": [
    {
     "name": "stdout",
     "output_type": "stream",
     "text": [
      "훈련세트에 대한 점수:  0.8496071829405163\n",
      "검증세트에 대한 점수:  0.7822986629841191\n"
     ]
    }
   ],
   "source": [
    "# 훈련세트에 대한 점수 및 검증세트에 대한 점수\n",
    "print(\"훈련세트에 대한 점수: \",titanic_pipeline.score(X, y))\n",
    "print(\"검증세트에 대한 점수: \", knn_grid.best_score_)"
   ]
  },
  {
   "cell_type": "code",
   "execution_count": null,
   "metadata": {
    "execution": {
     "iopub.execute_input": "2022-06-03T13:31:33.661679Z",
     "iopub.status.busy": "2022-06-03T13:31:33.661242Z",
     "iopub.status.idle": "2022-06-03T13:31:33.675838Z",
     "shell.execute_reply": "2022-06-03T13:31:33.674818Z",
     "shell.execute_reply.started": "2022-06-03T13:31:33.661647Z"
    }
   },
   "outputs": [],
   "source": [
    "X_test = test_df[features]\n",
    "X_test.head()"
   ]
  },
  {
   "cell_type": "code",
   "execution_count": null,
   "metadata": {
    "execution": {
     "iopub.execute_input": "2022-06-03T13:31:41.593369Z",
     "iopub.status.busy": "2022-06-03T13:31:41.592908Z",
     "iopub.status.idle": "2022-06-03T13:31:41.60749Z",
     "shell.execute_reply": "2022-06-03T13:31:41.60641Z",
     "shell.execute_reply.started": "2022-06-03T13:31:41.593319Z"
    }
   },
   "outputs": [],
   "source": [
    "predictions = titanic_pipeline.predict(X_test)"
   ]
  },
  {
   "cell_type": "code",
   "execution_count": null,
   "metadata": {
    "execution": {
     "iopub.execute_input": "2022-06-03T13:31:45.936129Z",
     "iopub.status.busy": "2022-06-03T13:31:45.935699Z",
     "iopub.status.idle": "2022-06-03T13:31:45.944499Z",
     "shell.execute_reply": "2022-06-03T13:31:45.943491Z",
     "shell.execute_reply.started": "2022-06-03T13:31:45.936095Z"
    }
   },
   "outputs": [],
   "source": [
    "output = pd.DataFrame({'PassengerId': test_df.PassengerId, 'Survived': predictions})\n",
    "output.to_csv('my_submission(knn).csv', index=False)"
   ]
  },
  {
   "cell_type": "markdown",
   "metadata": {},
   "source": [
    "### 로지스틱"
   ]
  },
  {
   "cell_type": "code",
   "execution_count": 118,
   "metadata": {},
   "outputs": [],
   "source": [
    "from sklearn.linear_model import LogisticRegression\n",
    "\n",
    "lr = LogisticRegression()\n",
    "\n",
    "lr_param_grid = {'C':range(1,20,1)}\n",
    "\n",
    "lr_grid = GridSearchCV(lr, param_grid = lr_param_grid, n_jobs=-1, verbose=1)"
   ]
  },
  {
   "cell_type": "code",
   "execution_count": 119,
   "metadata": {},
   "outputs": [],
   "source": [
    "# 파이프라인메서드를 이용하여, 모델에 전처리 바로 적용\n",
    "titanic_pipeline = Pipeline(steps=[\n",
    "    ('preprocessor', preprocessor),\n",
    "    ('model', lr_grid)\n",
    "])"
   ]
  },
  {
   "cell_type": "code",
   "execution_count": 120,
   "metadata": {},
   "outputs": [
    {
     "name": "stdout",
     "output_type": "stream",
     "text": [
      "Fitting 5 folds for each of 19 candidates, totalling 95 fits\n"
     ]
    },
    {
     "name": "stderr",
     "output_type": "stream",
     "text": [
      "[Parallel(n_jobs=-1)]: Using backend LokyBackend with 8 concurrent workers.\n",
      "[Parallel(n_jobs=-1)]: Done  52 tasks      | elapsed:    0.5s\n",
      "[Parallel(n_jobs=-1)]: Done  95 out of  95 | elapsed:    0.8s finished\n"
     ]
    },
    {
     "data": {
      "text/plain": [
       "Pipeline(steps=[('preprocessor',\n",
       "                 ColumnTransformer(transformers=[('num',\n",
       "                                                  SimpleImputer(strategy='median'),\n",
       "                                                  ['Fare']),\n",
       "                                                 ('cat',\n",
       "                                                  Pipeline(steps=[('imputer',\n",
       "                                                                   SimpleImputer(strategy='most_frequent')),\n",
       "                                                                  ('onehot',\n",
       "                                                                   OneHotEncoder(handle_unknown='ignore'))]),\n",
       "                                                  ['Pclass', 'Title',\n",
       "                                                   'Embarked', 'Family_size',\n",
       "                                                   'Cabin_clean'])])),\n",
       "                ('model',\n",
       "                 GridSearchCV(estimator=LogisticRegression(), n_jobs=-1,\n",
       "                              param_grid={'C': range(1, 20)}, verbose=1))])"
      ]
     },
     "execution_count": 120,
     "metadata": {},
     "output_type": "execute_result"
    }
   ],
   "source": [
    "import warnings\n",
    "warnings.filterwarnings('ignore')\n",
    "\n",
    "# 이부분이 조금 오래걸리지만 finished가 끝날때까지 기다린다.\n",
    "# 아마 warnings이 길게 뜨지만, 서브미션 스코어값을 산출하는데엔\n",
    "# 전혀 문제가 없다.\n",
    "\n",
    "titanic_pipeline.fit(X,y)"
   ]
  },
  {
   "cell_type": "code",
   "execution_count": 121,
   "metadata": {},
   "outputs": [
    {
     "name": "stdout",
     "output_type": "stream",
     "text": [
      "{'C': 19}\n"
     ]
    }
   ],
   "source": [
    "# 베스트 하이퍼파라미터 출력 - 최상의 매개변수 조합 확인\n",
    "print(lr_grid.best_params_)"
   ]
  },
  {
   "cell_type": "code",
   "execution_count": 122,
   "metadata": {},
   "outputs": [
    {
     "name": "stdout",
     "output_type": "stream",
     "text": [
      "훈련세트에 대한 점수:  0.8294051627384961\n",
      "검증세트에 대한 점수:  0.826031008725127\n"
     ]
    }
   ],
   "source": [
    "# 훈련세트에 대한 점수 및 검증세트에 대한 점수\n",
    "print(\"훈련세트에 대한 점수: \",titanic_pipeline.score(X, y))\n",
    "print(\"검증세트에 대한 점수: \", lr_grid.best_score_)"
   ]
  },
  {
   "cell_type": "code",
   "execution_count": null,
   "metadata": {
    "execution": {
     "iopub.execute_input": "2022-06-03T14:50:03.897085Z",
     "iopub.status.busy": "2022-06-03T14:50:03.89661Z",
     "iopub.status.idle": "2022-06-03T14:50:03.914198Z",
     "shell.execute_reply": "2022-06-03T14:50:03.913231Z",
     "shell.execute_reply.started": "2022-06-03T14:50:03.897041Z"
    }
   },
   "outputs": [],
   "source": [
    "X_test = test_df[features]\n",
    "X_test.head()"
   ]
  },
  {
   "cell_type": "code",
   "execution_count": null,
   "metadata": {
    "execution": {
     "iopub.execute_input": "2022-06-03T14:50:17.710757Z",
     "iopub.status.busy": "2022-06-03T14:50:17.710323Z",
     "iopub.status.idle": "2022-06-03T14:50:17.726024Z",
     "shell.execute_reply": "2022-06-03T14:50:17.724856Z",
     "shell.execute_reply.started": "2022-06-03T14:50:17.710721Z"
    }
   },
   "outputs": [],
   "source": [
    "predictions = titanic_pipeline.predict(X_test)"
   ]
  },
  {
   "cell_type": "code",
   "execution_count": null,
   "metadata": {},
   "outputs": [],
   "source": [
    "# 아마 warnings이 길게 뜨지만, 서브미션 스코어값을 산출하는데엔\n",
    "# 전혀 문제가 없다.\n",
    "\n",
    "output = pd.DataFrame({'PassengerId': test_df.PassengerId, 'Survived': predictions})\n",
    "output.to_csv('my_submission(lr).csv', index=False)"
   ]
  },
  {
   "cell_type": "markdown",
   "metadata": {},
   "source": [
    "### 그레디언트 부스팅"
   ]
  },
  {
   "cell_type": "code",
   "execution_count": 102,
   "metadata": {},
   "outputs": [],
   "source": [
    "from sklearn.ensemble import GradientBoostingClassifier\n",
    "\n",
    "gb = GradientBoostingClassifier()\n",
    "\n",
    "gb_param_grid = {'n_estimators' : [50,100,200,300], 'max_depth' : [3,4,5,6,7],\n",
    "                 'max_leaf_nodes' : [1,2,3,4,5],\n",
    "                'min_samples_split':range(2,100,10)}\n",
    "\n",
    "gb_grid = GridSearchCV(gb, param_grid = gb_param_grid,n_jobs=-1, verbose=1)"
   ]
  },
  {
   "cell_type": "code",
   "execution_count": 103,
   "metadata": {},
   "outputs": [],
   "source": [
    "# 파이프라인메서드를 이용하여, 모델에 전처리 바로 적용\n",
    "titanic_pipeline = Pipeline(steps=[\n",
    "    ('preprocessor', preprocessor),\n",
    "    ('model', gb_grid)\n",
    "])"
   ]
  },
  {
   "cell_type": "code",
   "execution_count": 104,
   "metadata": {},
   "outputs": [
    {
     "name": "stdout",
     "output_type": "stream",
     "text": [
      "Fitting 5 folds for each of 1000 candidates, totalling 5000 fits\n"
     ]
    },
    {
     "name": "stderr",
     "output_type": "stream",
     "text": [
      "[Parallel(n_jobs=-1)]: Using backend LokyBackend with 8 concurrent workers.\n",
      "[Parallel(n_jobs=-1)]: Done  56 tasks      | elapsed:    0.1s\n",
      "[Parallel(n_jobs=-1)]: Done 616 tasks      | elapsed:   11.7s\n",
      "[Parallel(n_jobs=-1)]: Done 866 tasks      | elapsed:   20.2s\n",
      "[Parallel(n_jobs=-1)]: Done 1632 tasks      | elapsed:   42.3s\n",
      "[Parallel(n_jobs=-1)]: Done 2393 tasks      | elapsed:  1.1min\n",
      "[Parallel(n_jobs=-1)]: Done 3103 tasks      | elapsed:  1.5min\n",
      "[Parallel(n_jobs=-1)]: Done 4500 tasks      | elapsed:  2.2min\n",
      "[Parallel(n_jobs=-1)]: Done 5000 out of 5000 | elapsed:  2.6min finished\n"
     ]
    },
    {
     "data": {
      "text/plain": [
       "Pipeline(steps=[('preprocessor',\n",
       "                 ColumnTransformer(transformers=[('num',\n",
       "                                                  SimpleImputer(strategy='median'),\n",
       "                                                  ['Fare']),\n",
       "                                                 ('cat',\n",
       "                                                  Pipeline(steps=[('imputer',\n",
       "                                                                   SimpleImputer(strategy='most_frequent')),\n",
       "                                                                  ('onehot',\n",
       "                                                                   OneHotEncoder(handle_unknown='ignore'))]),\n",
       "                                                  ['Pclass', 'Title',\n",
       "                                                   'Embarked', 'Family_size',\n",
       "                                                   'Cabin_clean'])])),\n",
       "                ('model',\n",
       "                 GridSearchCV(estimator=GradientBoostingClassifier(), n_jobs=-1,\n",
       "                              param_grid={'max_depth': [3, 4, 5, 6, 7],\n",
       "                                          'max_leaf_nodes': [1, 2, 3, 4, 5],\n",
       "                                          'min_samples_split': range(2, 100, 10),\n",
       "                                          'n_estimators': [50, 100, 200, 300]},\n",
       "                              verbose=1))])"
      ]
     },
     "execution_count": 104,
     "metadata": {},
     "output_type": "execute_result"
    }
   ],
   "source": [
    "titanic_pipeline.fit(X,y)"
   ]
  },
  {
   "cell_type": "code",
   "execution_count": 105,
   "metadata": {},
   "outputs": [
    {
     "name": "stdout",
     "output_type": "stream",
     "text": [
      "{'max_depth': 3, 'max_leaf_nodes': 5, 'min_samples_split': 12, 'n_estimators': 300}\n"
     ]
    }
   ],
   "source": [
    "# 베스트 하이퍼파라미터 출력 - 최상의 매개변수 조합 확인\n",
    "print(gb_grid.best_params_)"
   ]
  },
  {
   "cell_type": "code",
   "execution_count": 106,
   "metadata": {},
   "outputs": [
    {
     "name": "stdout",
     "output_type": "stream",
     "text": [
      "훈련세트에 대한 점수:  0.9023569023569024\n",
      "검증세트에 대한 점수:  0.8350134957002073\n"
     ]
    }
   ],
   "source": [
    "# 훈련세트에 대한 점수 및 검증세트에 대한 점수\n",
    "print(\"훈련세트에 대한 점수: \",titanic_pipeline.score(X, y))\n",
    "print(\"검증세트에 대한 점수: \", gb_grid.best_score_)"
   ]
  },
  {
   "cell_type": "code",
   "execution_count": null,
   "metadata": {
    "execution": {
     "iopub.execute_input": "2022-06-03T15:50:07.47347Z",
     "iopub.status.busy": "2022-06-03T15:50:07.473062Z",
     "iopub.status.idle": "2022-06-03T15:50:07.478521Z",
     "shell.execute_reply": "2022-06-03T15:50:07.477593Z",
     "shell.execute_reply.started": "2022-06-03T15:50:07.473437Z"
    }
   },
   "outputs": [],
   "source": [
    "gb = GradientBoostingClassifier(n_estimators = 300, max_depth = 3, max_leaf_nodes = 5, min_samples_split = 12)"
   ]
  },
  {
   "cell_type": "code",
   "execution_count": null,
   "metadata": {
    "execution": {
     "iopub.execute_input": "2022-06-03T15:50:19.06594Z",
     "iopub.status.busy": "2022-06-03T15:50:19.065538Z",
     "iopub.status.idle": "2022-06-03T15:50:19.07146Z",
     "shell.execute_reply": "2022-06-03T15:50:19.07045Z",
     "shell.execute_reply.started": "2022-06-03T15:50:19.065909Z"
    }
   },
   "outputs": [],
   "source": [
    "# Bundle preprocessing and modeling code \n",
    "titanic_pipeline = Pipeline(steps=[\n",
    "    ('preprocessor', preprocessor),\n",
    "    ('model', gb)\n",
    "])"
   ]
  },
  {
   "cell_type": "code",
   "execution_count": null,
   "metadata": {
    "execution": {
     "iopub.execute_input": "2022-06-03T15:50:23.730832Z",
     "iopub.status.busy": "2022-06-03T15:50:23.730411Z",
     "iopub.status.idle": "2022-06-03T15:50:24.054706Z",
     "shell.execute_reply": "2022-06-03T15:50:24.053656Z",
     "shell.execute_reply.started": "2022-06-03T15:50:23.730797Z"
    }
   },
   "outputs": [],
   "source": [
    "titanic_pipeline.fit(X,y)"
   ]
  },
  {
   "cell_type": "code",
   "execution_count": null,
   "metadata": {
    "execution": {
     "iopub.execute_input": "2022-06-03T15:50:26.629775Z",
     "iopub.status.busy": "2022-06-03T15:50:26.629392Z",
     "iopub.status.idle": "2022-06-03T15:50:26.645564Z",
     "shell.execute_reply": "2022-06-03T15:50:26.644374Z",
     "shell.execute_reply.started": "2022-06-03T15:50:26.629745Z"
    }
   },
   "outputs": [],
   "source": [
    "X_test = test_df[features]\n",
    "X_test.head()"
   ]
  },
  {
   "cell_type": "code",
   "execution_count": null,
   "metadata": {
    "execution": {
     "iopub.execute_input": "2022-06-03T15:50:27.946313Z",
     "iopub.status.busy": "2022-06-03T15:50:27.945876Z",
     "iopub.status.idle": "2022-06-03T15:50:27.962549Z",
     "shell.execute_reply": "2022-06-03T15:50:27.96173Z",
     "shell.execute_reply.started": "2022-06-03T15:50:27.94627Z"
    }
   },
   "outputs": [],
   "source": [
    "predictions = titanic_pipeline.predict(X_test)"
   ]
  },
  {
   "cell_type": "code",
   "execution_count": null,
   "metadata": {
    "execution": {
     "iopub.execute_input": "2022-06-03T15:58:04.539295Z",
     "iopub.status.busy": "2022-06-03T15:58:04.538836Z",
     "iopub.status.idle": "2022-06-03T15:58:04.547811Z",
     "shell.execute_reply": "2022-06-03T15:58:04.546704Z",
     "shell.execute_reply.started": "2022-06-03T15:58:04.539233Z"
    }
   },
   "outputs": [],
   "source": [
    "output = pd.DataFrame({'PassengerId': test_df.PassengerId, 'Survived': predictions})\n",
    "output.to_csv('submission-6-2.csv', index=False)"
   ]
  },
  {
   "cell_type": "markdown",
   "metadata": {},
   "source": [
    "# 결과\n",
    "\n",
    "훈련세트와 검증세트 그리고 서브미션의 스코어값을 모두 따졌을때, 가장 이상적인 분류기는 랜덤포레스트와 로지스틱인것 같다. 하지만 이번 프로젝트의 핵심이 두 분류기의 서브미션 스코어 합산이 높은것이었기 때문에 랜덤포레스트와 그레이디언트 부스팅 알고리즘을 선택하였다."
   ]
  },
  {
   "cell_type": "code",
   "execution_count": null,
   "metadata": {},
   "outputs": [],
   "source": []
  }
 ],
 "metadata": {
  "kernelspec": {
   "display_name": "Python 3",
   "language": "python",
   "name": "python3"
  },
  "language_info": {
   "codemirror_mode": {
    "name": "ipython",
    "version": 3
   },
   "file_extension": ".py",
   "mimetype": "text/x-python",
   "name": "python",
   "nbconvert_exporter": "python",
   "pygments_lexer": "ipython3",
   "version": "3.8.5"
  }
 },
 "nbformat": 4,
 "nbformat_minor": 4
}
