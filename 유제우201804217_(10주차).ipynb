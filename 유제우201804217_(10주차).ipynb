{
  "nbformat": 4,
  "nbformat_minor": 0,
  "metadata": {
    "colab": {
      "name": "유제우201804217 (10주차).ipynb",
      "provenance": [],
      "collapsed_sections": []
    },
    "kernelspec": {
      "name": "python3",
      "display_name": "Python 3"
    },
    "language_info": {
      "name": "python"
    }
  },
  "cells": [
    {
      "cell_type": "markdown",
      "source": [
        "# 기계학습기초 10주차 과제\n",
        "\n",
        "# 데이터사이언스전공 201804217 유제우\n"
      ],
      "metadata": {
        "id": "3Pp7unlc5WyJ"
      }
    },
    {
      "cell_type": "markdown",
      "source": [
        "## Logistic 회귀를 이용한 이진 분류"
      ],
      "metadata": {
        "id": "RI44wfUB5kmt"
      }
    },
    {
      "cell_type": "code",
      "execution_count": 1,
      "metadata": {
        "id": "cqkPGXk95AQY"
      },
      "outputs": [],
      "source": [
        "import pandas as pd\n",
        "import numpy as np"
      ]
    },
    {
      "cell_type": "code",
      "source": [
        "# 사용할 데이터 불러오기\n",
        "\n",
        "fish = pd.read_csv('https://bit.ly/fish_csv')\n",
        "fish_input = fish[['Weight','Length','Diagonal','Height','Width']].to_numpy()\n",
        "fish_target = fish['Species'].to_numpy()"
      ],
      "metadata": {
        "id": "UhUlq4kA5vW3"
      },
      "execution_count": 2,
      "outputs": []
    },
    {
      "cell_type": "code",
      "source": [
        "# 학습데이터, 테스트데이터 나누기\n",
        "\n",
        "from sklearn.model_selection import train_test_split\n",
        "train_input, test_input, train_target, test_target = train_test_split(\n",
        "    fish_input, fish_target, random_state = 42\n",
        ")"
      ],
      "metadata": {
        "id": "GvWZvQze5vTv"
      },
      "execution_count": 3,
      "outputs": []
    },
    {
      "cell_type": "code",
      "source": [
        "train_input[:3]"
      ],
      "metadata": {
        "colab": {
          "base_uri": "https://localhost:8080/"
        },
        "id": "aJMDF9cI7dFP",
        "outputId": "3782d325-f778-4822-c8d8-9c2810a268cb"
      },
      "execution_count": 4,
      "outputs": [
        {
          "output_type": "execute_result",
          "data": {
            "text/plain": [
              "array([[720.    ,  35.    ,  40.6   ,  16.3618,   6.09  ],\n",
              "       [500.    ,  45.    ,  48.    ,   6.96  ,   4.896 ],\n",
              "       [  7.5   ,  10.5   ,  11.6   ,   1.972 ,   1.16  ]])"
            ]
          },
          "metadata": {},
          "execution_count": 4
        }
      ]
    },
    {
      "cell_type": "code",
      "source": [
        "#특성 정규화\n",
        "from sklearn.preprocessing import StandardScaler\n",
        "ss = StandardScaler()\n",
        "ss.fit(train_input)\n",
        "train_scaled = ss.transform(train_input)\n",
        "test_scaled = ss.transform(test_input)"
      ],
      "metadata": {
        "id": "dqv1wDpk5vSj"
      },
      "execution_count": 5,
      "outputs": []
    },
    {
      "cell_type": "code",
      "source": [
        "# 이진분류를 위해 데이터 골라내기: Bream과 Smelt만 분류해보자\n",
        "bream_smelt_indexes = (train_target == 'Bream') | (train_target == 'Smelt')\n",
        "train_bream_smelt = train_scaled[bream_smelt_indexes]\n",
        "target_bream_smelt = train_target[bream_smelt_indexes]"
      ],
      "metadata": {
        "id": "NJbqXsil62Gb"
      },
      "execution_count": 6,
      "outputs": []
    },
    {
      "cell_type": "code",
      "source": [
        "#\n",
        "from sklearn.linear_model import LogisticRegression\n",
        "lr = LogisticRegression()\n",
        "lr.fit(train_bream_smelt,target_bream_smelt)"
      ],
      "metadata": {
        "colab": {
          "base_uri": "https://localhost:8080/"
        },
        "id": "oBC45Tzx7oMi",
        "outputId": "af6d9974-e593-42e8-ad4c-13578006c09c"
      },
      "execution_count": 7,
      "outputs": [
        {
          "output_type": "execute_result",
          "data": {
            "text/plain": [
              "LogisticRegression()"
            ]
          },
          "metadata": {},
          "execution_count": 7
        }
      ]
    },
    {
      "cell_type": "code",
      "source": [
        "# decision_function 값\n",
        "dcsn = lr.decision_function(train_bream_smelt[:5])\n",
        "print(dcsn)"
      ],
      "metadata": {
        "colab": {
          "base_uri": "https://localhost:8080/"
        },
        "id": "poeUWAzL8HR5",
        "outputId": "f67b531b-d5fb-4b0e-c9d1-4b886ec33cb6"
      },
      "execution_count": 8,
      "outputs": [
        {
          "output_type": "stream",
          "name": "stdout",
          "text": [
            "[-6.02927744  3.57123907 -5.26568906 -4.24321775 -6.0607117 ]\n"
          ]
        }
      ]
    },
    {
      "cell_type": "code",
      "source": [
        "# 각 클래스에 속할 확률\n",
        "proba = lr.predict_proba(train_bream_smelt[:5])\n",
        "print(proba)"
      ],
      "metadata": {
        "colab": {
          "base_uri": "https://localhost:8080/"
        },
        "id": "JzzO3i1V8Py-",
        "outputId": "764e9187-aeb3-4184-af4d-9516b649cb3d"
      },
      "execution_count": 9,
      "outputs": [
        {
          "output_type": "stream",
          "name": "stdout",
          "text": [
            "[[0.99759855 0.00240145]\n",
            " [0.02735183 0.97264817]\n",
            " [0.99486072 0.00513928]\n",
            " [0.98584202 0.01415798]\n",
            " [0.99767269 0.00232731]]\n"
          ]
        }
      ]
    },
    {
      "cell_type": "markdown",
      "source": [
        ""
      ],
      "metadata": {
        "id": "Fh9mGYtdOoxJ"
      }
    },
    {
      "cell_type": "markdown",
      "source": [
        "----\n",
        "\n",
        "제우's 독학"
      ],
      "metadata": {
        "id": "z65iCkESOnyM"
      }
    },
    {
      "cell_type": "code",
      "source": [
        "from sklearn.tree import DecisionTreeClassifier\n",
        "dt = DecisionTreeClassifier()\n",
        "dt.fit(train_bream_smelt, target_bream_smelt)"
      ],
      "metadata": {
        "colab": {
          "base_uri": "https://localhost:8080/"
        },
        "id": "D7k7qkhwOL69",
        "outputId": "202ccc8f-c0fa-43fc-e000-1fb1c49107f2"
      },
      "execution_count": 11,
      "outputs": [
        {
          "output_type": "execute_result",
          "data": {
            "text/plain": [
              "DecisionTreeClassifier()"
            ]
          },
          "metadata": {},
          "execution_count": 11
        }
      ]
    },
    {
      "cell_type": "code",
      "source": [
        "dcsn = dt.decision_function(train_bream_smelt[:5])\n",
        "print(dcsn)"
      ],
      "metadata": {
        "colab": {
          "base_uri": "https://localhost:8080/",
          "height": 190
        },
        "id": "RhVBwxZ0O0lr",
        "outputId": "300a4ed7-9265-4519-a118-239d48fc150b"
      },
      "execution_count": 12,
      "outputs": [
        {
          "output_type": "error",
          "ename": "AttributeError",
          "evalue": "ignored",
          "traceback": [
            "\u001b[0;31m---------------------------------------------------------------------------\u001b[0m",
            "\u001b[0;31mAttributeError\u001b[0m                            Traceback (most recent call last)",
            "\u001b[0;32m<ipython-input-12-7cf367928e7b>\u001b[0m in \u001b[0;36m<module>\u001b[0;34m()\u001b[0m\n\u001b[0;32m----> 1\u001b[0;31m \u001b[0mdcsn\u001b[0m \u001b[0;34m=\u001b[0m \u001b[0mdt\u001b[0m\u001b[0;34m.\u001b[0m\u001b[0mdecision_function\u001b[0m\u001b[0;34m(\u001b[0m\u001b[0mtrain_bream_smelt\u001b[0m\u001b[0;34m[\u001b[0m\u001b[0;34m:\u001b[0m\u001b[0;36m5\u001b[0m\u001b[0;34m]\u001b[0m\u001b[0;34m)\u001b[0m\u001b[0;34m\u001b[0m\u001b[0;34m\u001b[0m\u001b[0m\n\u001b[0m\u001b[1;32m      2\u001b[0m \u001b[0mprint\u001b[0m\u001b[0;34m(\u001b[0m\u001b[0mdcsn\u001b[0m\u001b[0;34m)\u001b[0m\u001b[0;34m\u001b[0m\u001b[0;34m\u001b[0m\u001b[0m\n",
            "\u001b[0;31mAttributeError\u001b[0m: 'DecisionTreeClassifier' object has no attribute 'decision_function'"
          ]
        }
      ]
    },
    {
      "cell_type": "markdown",
      "source": [
        "---------------------"
      ],
      "metadata": {
        "id": "FSwBM6fWWTCB"
      }
    },
    {
      "cell_type": "markdown",
      "source": [
        "1. 위 코드에서 dcsn과 proba의 관계는?\n",
        "\n",
        "  -> dcsn은 decision_function으로 z값을 나타낸다. proba는 decision_finction에서 나온 z값을 시그모이드함수를 사용하여 확률로 바꾼값이다. 이것으로 Bream과 Smelt의 확률을 예측할 수 있고, 이 둘 확률의 합은 1이 된다."
      ],
      "metadata": {
        "id": "V05qhQ-08b3h"
      }
    },
    {
      "cell_type": "markdown",
      "source": [
        "-----------------"
      ],
      "metadata": {
        "id": "FY8PG-_0WRzD"
      }
    },
    {
      "cell_type": "markdown",
      "source": [
        "2. predict_proba함수를 사용하지 않고 proba를 얻을 수 있는 코드를 작성하시오.\n",
        "(Hint: expit와 column_stack을 이용하여 작성할 수 있다.)"
      ],
      "metadata": {
        "id": "1EQhIdnE9Kjp"
      }
    },
    {
      "cell_type": "code",
      "source": [
        "from scipy.special import expit\n",
        "\n",
        "A = 1-expit(dcsn)\n",
        "B = expit(dcsn)"
      ],
      "metadata": {
        "id": "gNv0e2GG8Wqy"
      },
      "execution_count": null,
      "outputs": []
    },
    {
      "cell_type": "code",
      "source": [
        "import numpy as np \n",
        "\n",
        "A_B = np.column_stack((B, A))\n",
        "print(A_B)"
      ],
      "metadata": {
        "colab": {
          "base_uri": "https://localhost:8080/"
        },
        "id": "eOfUYDN1-Dgz",
        "outputId": "57acae85-4643-4e4f-88bf-c8d42fa1fa3b"
      },
      "execution_count": null,
      "outputs": [
        {
          "output_type": "stream",
          "name": "stdout",
          "text": [
            "[[0.00240145 0.99759855]\n",
            " [0.97264817 0.02735183]\n",
            " [0.00513928 0.99486072]\n",
            " [0.01415798 0.98584202]\n",
            " [0.00232731 0.99767269]]\n"
          ]
        }
      ]
    },
    {
      "cell_type": "markdown",
      "source": [
        "----\n",
        "교수님 답"
      ],
      "metadata": {
        "id": "j1Aru5wuPJLk"
      }
    },
    {
      "cell_type": "code",
      "source": [
        "z = dcsn\n",
        "\n",
        "from scipy.special import expit\n",
        "\n",
        "proba_ = np.column_stack([1-expit(z), expit(z)])\n",
        "\n",
        "print(proba_)"
      ],
      "metadata": {
        "colab": {
          "base_uri": "https://localhost:8080/"
        },
        "id": "nXhNIQBmPA-F",
        "outputId": "e59d792f-ef16-453f-c0a4-8dd7d93e117c"
      },
      "execution_count": 13,
      "outputs": [
        {
          "output_type": "stream",
          "name": "stdout",
          "text": [
            "[[0.99759855 0.00240145]\n",
            " [0.02735183 0.97264817]\n",
            " [0.99486072 0.00513928]\n",
            " [0.98584202 0.01415798]\n",
            " [0.99767269 0.00232731]]\n"
          ]
        }
      ]
    },
    {
      "cell_type": "markdown",
      "source": [
        "# Logistic회귀를 이용한 다중 분류"
      ],
      "metadata": {
        "id": "vbeH45MLAj25"
      }
    },
    {
      "cell_type": "code",
      "source": [
        "# 다중분류를 위한 모델과 학습\n",
        "lr = LogisticRegression(C = 20, max_iter = 1000)\n",
        "lr.fit(train_scaled, train_target)"
      ],
      "metadata": {
        "colab": {
          "base_uri": "https://localhost:8080/"
        },
        "id": "_mNwBmzb_vDu",
        "outputId": "35da3bfd-08d9-485c-cf67-65fd62074217"
      },
      "execution_count": null,
      "outputs": [
        {
          "output_type": "execute_result",
          "data": {
            "text/plain": [
              "LogisticRegression(C=20, max_iter=1000)"
            ]
          },
          "metadata": {},
          "execution_count": 12
        }
      ]
    },
    {
      "cell_type": "code",
      "source": [
        "# 예측\n",
        "print(lr.predict(test_scaled[:3]))"
      ],
      "metadata": {
        "colab": {
          "base_uri": "https://localhost:8080/"
        },
        "id": "AnZQppFMAu72",
        "outputId": "22be9db7-e316-4562-a3f9-4ffb07a0cbf1"
      },
      "execution_count": null,
      "outputs": [
        {
          "output_type": "stream",
          "name": "stdout",
          "text": [
            "['Perch' 'Smelt' 'Pike']\n"
          ]
        }
      ]
    },
    {
      "cell_type": "code",
      "source": [
        "# 테스트 데이터 3개가 각 클래스에 속할 확률(predict_proba)\n",
        "proba = lr.predict_proba(test_scaled[:3])\n",
        "print(np.round(proba, decimals = 3))"
      ],
      "metadata": {
        "colab": {
          "base_uri": "https://localhost:8080/"
        },
        "id": "-soDFDXXBFfU",
        "outputId": "fd94c4f9-1163-4fac-9427-aa990864635d"
      },
      "execution_count": null,
      "outputs": [
        {
          "output_type": "stream",
          "name": "stdout",
          "text": [
            "[[0.    0.014 0.841 0.    0.136 0.007 0.003]\n",
            " [0.    0.003 0.044 0.    0.007 0.946 0.   ]\n",
            " [0.    0.    0.034 0.935 0.015 0.016 0.   ]]\n"
          ]
        }
      ]
    },
    {
      "cell_type": "code",
      "source": [
        "# decision_function 값들\n",
        "decision = lr.decision_function(test_scaled[:3])\n",
        "print(np.round(decision, decimals = 2))"
      ],
      "metadata": {
        "colab": {
          "base_uri": "https://localhost:8080/"
        },
        "id": "KFmhxvRRBIBH",
        "outputId": "ce7a8abb-28d4-4915-f187-02e53170158d"
      },
      "execution_count": null,
      "outputs": [
        {
          "output_type": "stream",
          "name": "stdout",
          "text": [
            "[[ -6.5    1.03   5.16  -2.73   3.34   0.33  -0.63]\n",
            " [-10.86   1.93   4.77  -2.4    2.98   7.84  -4.26]\n",
            " [ -4.34  -6.23   3.17   6.49   2.36   2.42  -3.87]]\n"
          ]
        }
      ]
    },
    {
      "cell_type": "code",
      "source": [
        "# softmax 함수를 이용한 predict_proba 계산\n",
        "\n",
        "from scipy.special import softmax\n",
        "proba_sm = softmax(decision, axis = 1)\n",
        "print(np.round(proba_sm, decimals = 3))"
      ],
      "metadata": {
        "colab": {
          "base_uri": "https://localhost:8080/"
        },
        "id": "eLQ4BWcDBopY",
        "outputId": "18a067a9-8376-401c-f984-1cfa89c11778"
      },
      "execution_count": null,
      "outputs": [
        {
          "output_type": "stream",
          "name": "stdout",
          "text": [
            "[[0.    0.014 0.841 0.    0.136 0.007 0.003]\n",
            " [0.    0.003 0.044 0.    0.007 0.946 0.   ]\n",
            " [0.    0.    0.034 0.935 0.015 0.016 0.   ]]\n"
          ]
        }
      ]
    },
    {
      "cell_type": "markdown",
      "source": [
        "---------------------------------"
      ],
      "metadata": {
        "id": "ZkB3YafxWNW5"
      }
    },
    {
      "cell_type": "markdown",
      "source": [
        "3. proba와 proba_sm . 위 코드를 실행시켜 와 값이 일치함을 확인하시오.\n",
        "\n",
        "  -> 일치한다."
      ],
      "metadata": {
        "id": "KWw0GSLoB7SF"
      }
    },
    {
      "cell_type": "code",
      "source": [
        "# 테스트 데이터 3개가 각 클래스에 속할 확률(predict_proba)\n",
        "proba = lr.predict_proba(test_scaled[:3])\n",
        "print(np.round(proba, decimals = 3))"
      ],
      "metadata": {
        "colab": {
          "base_uri": "https://localhost:8080/"
        },
        "id": "tlgzHadIWIPU",
        "outputId": "ffd30b13-e9f8-4840-b1d6-e4f013a6833e"
      },
      "execution_count": null,
      "outputs": [
        {
          "output_type": "stream",
          "name": "stdout",
          "text": [
            "[[0.    0.014 0.841 0.    0.136 0.007 0.003]\n",
            " [0.    0.003 0.044 0.    0.007 0.946 0.   ]\n",
            " [0.    0.    0.034 0.935 0.015 0.016 0.   ]]\n"
          ]
        }
      ]
    },
    {
      "cell_type": "code",
      "source": [
        "# softmax 함수를 이용한 predict_proba 계산\n",
        "\n",
        "from scipy.special import softmax\n",
        "proba_sm = softmax(decision, axis = 1)\n",
        "print(np.round(proba_sm, decimals = 3))"
      ],
      "metadata": {
        "colab": {
          "base_uri": "https://localhost:8080/"
        },
        "id": "EzydTraCWAcz",
        "outputId": "07a7962a-34d0-4b4a-b58c-19738f68a13e"
      },
      "execution_count": null,
      "outputs": [
        {
          "output_type": "stream",
          "name": "stdout",
          "text": [
            "[[0.    0.014 0.841 0.    0.136 0.007 0.003]\n",
            " [0.    0.003 0.044 0.    0.007 0.946 0.   ]\n",
            " [0.    0.    0.034 0.935 0.015 0.016 0.   ]]\n"
          ]
        }
      ]
    },
    {
      "cell_type": "markdown",
      "source": [
        "----------------------------"
      ],
      "metadata": {
        "id": "uOEeUbajWPwA"
      }
    },
    {
      "cell_type": "markdown",
      "source": [
        "4. p.191 softmax proba_sm . 다음의 교제 정의를 이용하여 을 계산하는 코드를 작성하시오\n"
      ],
      "metadata": {
        "id": "pG1ITXtMCOrn"
      }
    },
    {
      "cell_type": "markdown",
      "source": [
        "s1 = e^z / e_sum"
      ],
      "metadata": {
        "id": "FDeJTLfEPzIO"
      }
    },
    {
      "cell_type": "code",
      "source": [
        "np.exp(decision)"
      ],
      "metadata": {
        "colab": {
          "base_uri": "https://localhost:8080/"
        },
        "id": "XIRcfmgHFyAe",
        "outputId": "de34cb37-a7ec-4442-ac8f-24ec4cbbea78"
      },
      "execution_count": null,
      "outputs": [
        {
          "output_type": "execute_result",
          "data": {
            "text/plain": [
              "array([[1.50628887e-03, 2.80732264e+00, 1.74797177e+02, 6.53061904e-02,\n",
              "        2.81874117e+01, 1.38613638e+00, 5.30211910e-01],\n",
              "       [1.92215778e-05, 6.87015022e+00, 1.18037462e+02, 9.08555949e-02,\n",
              "        1.96503513e+01, 2.54361873e+03, 1.41270298e-02],\n",
              "       [1.30980810e-02, 1.96340260e-03, 2.39138358e+01, 6.56359237e+02,\n",
              "        1.05653451e+01, 1.12590065e+01, 2.08261200e-02]])"
            ]
          },
          "metadata": {},
          "execution_count": 60
        }
      ]
    },
    {
      "cell_type": "code",
      "source": [
        "dcsn = np.exp(decision)\n",
        "length = len(dcsn[0])"
      ],
      "metadata": {
        "id": "aer_p-uUR79c"
      },
      "execution_count": null,
      "outputs": []
    },
    {
      "cell_type": "code",
      "source": [
        "# s = e^z / e_sum\n",
        "\n",
        "s = [[0] * length, [0] * length, [0] * length]\n",
        "esum = 0\n",
        "for i in range(len(dcsn)):\n",
        "  for j in range(length):\n",
        "    esum += dcsn[i][j]\n",
        "  for k in range(length):\n",
        "    s[i][k] = dcsn[i][k] / esum\n",
        "s"
      ],
      "metadata": {
        "colab": {
          "base_uri": "https://localhost:8080/"
        },
        "id": "DcYiKcwqNPeO",
        "outputId": "aead535e-e303-47bc-a660-8669b78a4f2f"
      },
      "execution_count": null,
      "outputs": [
        {
          "output_type": "execute_result",
          "data": {
            "text/plain": [
              "[[7.2496130268749e-06,\n",
              "  0.013511354392802457,\n",
              "  0.8412807914588042,\n",
              "  0.00031431196050320156,\n",
              "  0.13566310584825494,\n",
              "  0.006671331476271952,\n",
              "  0.0025518552503363046],\n",
              " [6.637155041740168e-09,\n",
              "  0.0023722429377817373,\n",
              "  0.04075799312590172,\n",
              "  3.1372173292523706e-05,\n",
              "  0.00678520927637318,\n",
              "  0.8783041681483829,\n",
              "  4.878022402608563e-06],\n",
              " [3.6401859585973433e-06,\n",
              "  5.456639462891248e-07,\n",
              "  0.0066460735090112764,\n",
              "  0.18241371960764483,\n",
              "  0.0029362943090786085,\n",
              "  0.0031290749720760823,\n",
              "  5.7879432392024594e-06]]"
            ]
          },
          "metadata": {},
          "execution_count": 123
        }
      ]
    },
    {
      "cell_type": "code",
      "source": [
        "result = np.round(s, decimals=3)\n",
        "print(result)"
      ],
      "metadata": {
        "colab": {
          "base_uri": "https://localhost:8080/"
        },
        "id": "lwXWBEPNN8k5",
        "outputId": "a7c75130-43ee-44da-ed5a-32c1f099fb09"
      },
      "execution_count": null,
      "outputs": [
        {
          "output_type": "stream",
          "name": "stdout",
          "text": [
            "[[0.    0.014 0.841 0.    0.136 0.007 0.003]\n",
            " [0.    0.002 0.041 0.    0.007 0.878 0.   ]\n",
            " [0.    0.    0.007 0.182 0.003 0.003 0.   ]]\n"
          ]
        }
      ]
    },
    {
      "cell_type": "markdown",
      "source": [
        "----------------------"
      ],
      "metadata": {
        "id": "I6wxA8VZtvZK"
      }
    },
    {
      "cell_type": "code",
      "source": [
        "z = decision"
      ],
      "metadata": {
        "id": "7DI58LTbUruk"
      },
      "execution_count": null,
      "outputs": []
    },
    {
      "cell_type": "code",
      "source": [
        "z"
      ],
      "metadata": {
        "colab": {
          "base_uri": "https://localhost:8080/"
        },
        "id": "4ngzsk90tx33",
        "outputId": "77d1c36e-676d-4004-96a6-8afe9258f611"
      },
      "execution_count": null,
      "outputs": [
        {
          "output_type": "execute_result",
          "data": {
            "text/plain": [
              "array([[ -6.49810635,   1.03223123,   5.16362632,  -2.72866845,\n",
              "          3.33887548,   0.32652029,  -0.63447852],\n",
              "       [-10.85947707,   1.92718597,   4.77100205,  -2.3984839 ,\n",
              "          2.97809521,   7.84134304,  -4.25966531],\n",
              "       [ -4.33528955,  -6.23307629,   3.17445719,   6.48670826,\n",
              "          2.35757931,   2.42116839,  -3.87154731]])"
            ]
          },
          "metadata": {},
          "execution_count": 18
        }
      ]
    },
    {
      "cell_type": "code",
      "source": [
        "esum = np.sum(np.exp(z), axis = 1)"
      ],
      "metadata": {
        "id": "LZ3hSQMjtycn"
      },
      "execution_count": null,
      "outputs": []
    },
    {
      "cell_type": "code",
      "source": [
        "esum"
      ],
      "metadata": {
        "colab": {
          "base_uri": "https://localhost:8080/"
        },
        "id": "3XuXlLmYt29u",
        "outputId": "298858e5-6c82-41d2-ce3f-9e8c1f2a7bdd"
      },
      "execution_count": null,
      "outputs": [
        {
          "output_type": "execute_result",
          "data": {
            "text/plain": [
              "array([ 207.77507248, 2688.28169779,  702.13331168])"
            ]
          },
          "metadata": {},
          "execution_count": 23
        }
      ]
    },
    {
      "cell_type": "code",
      "source": [
        "ESUM = np.repeat(esum.reshape(z.shape[0], -1), z.shape[1], axis = 1)"
      ],
      "metadata": {
        "id": "6k5-kKpUt37W"
      },
      "execution_count": null,
      "outputs": []
    },
    {
      "cell_type": "code",
      "source": [
        "print(np.round(np.exp(z)/ESUM, decimals = 3))"
      ],
      "metadata": {
        "colab": {
          "base_uri": "https://localhost:8080/"
        },
        "id": "2Z2NGMvLt-DS",
        "outputId": "6bc26f7b-f95a-4999-9534-59b7859affe0"
      },
      "execution_count": null,
      "outputs": [
        {
          "output_type": "stream",
          "name": "stdout",
          "text": [
            "[[0.    0.014 0.841 0.    0.136 0.007 0.003]\n",
            " [0.    0.003 0.044 0.    0.007 0.946 0.   ]\n",
            " [0.    0.    0.034 0.935 0.015 0.016 0.   ]]\n"
          ]
        }
      ]
    },
    {
      "cell_type": "code",
      "source": [
        ""
      ],
      "metadata": {
        "id": "UjQRTMQluCv9"
      },
      "execution_count": null,
      "outputs": []
    }
  ]
}